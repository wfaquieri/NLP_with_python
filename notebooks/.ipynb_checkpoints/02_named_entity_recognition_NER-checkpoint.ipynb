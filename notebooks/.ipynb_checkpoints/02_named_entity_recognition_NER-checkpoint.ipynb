{
 "cells": [
  {
   "cell_type": "code",
   "execution_count": null,
   "id": "6c316545",
   "metadata": {},
   "outputs": [],
   "source": [
    "## This chapter will introduce a slightly more advanced topic: named-entity recognition. \n",
    "## You'll learn how to identify the who, what, and where of your texts using pre-trained models on English and non-English text. \n",
    "## You'll also learn how to use some new libraries, polyglot and spaCy, to add to your NLP toolbox."
   ]
  },
  {
   "cell_type": "code",
   "execution_count": null,
   "id": "39218e27",
   "metadata": {},
   "outputs": [],
   "source": []
  }
 ],
 "metadata": {
  "kernelspec": {
   "display_name": "Python 3 (ipykernel)",
   "language": "python",
   "name": "python3"
  },
  "language_info": {
   "codemirror_mode": {
    "name": "ipython",
    "version": 3
   },
   "file_extension": ".py",
   "mimetype": "text/x-python",
   "name": "python",
   "nbconvert_exporter": "python",
   "pygments_lexer": "ipython3",
   "version": "3.9.7"
  }
 },
 "nbformat": 4,
 "nbformat_minor": 5
}
