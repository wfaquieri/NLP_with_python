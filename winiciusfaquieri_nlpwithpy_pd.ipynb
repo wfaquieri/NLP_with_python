{
  "nbformat": 4,
  "nbformat_minor": 0,
  "metadata": {
    "colab": {
      "name": "winiciusfaquieri_nlpwithpy_pd.ipynb",
      "provenance": [],
      "collapsed_sections": [],
      "include_colab_link": true
    },
    "kernelspec": {
      "name": "python3",
      "display_name": "Python 3"
    },
    "language_info": {
      "name": "python"
    },
    "widgets": {
      "application/vnd.jupyter.widget-state+json": {
        "73fac9e99881450c875a4dad3b955629": {
          "model_module": "@jupyter-widgets/controls",
          "model_name": "HBoxModel",
          "model_module_version": "1.5.0",
          "state": {
            "_dom_classes": [],
            "_model_module": "@jupyter-widgets/controls",
            "_model_module_version": "1.5.0",
            "_model_name": "HBoxModel",
            "_view_count": null,
            "_view_module": "@jupyter-widgets/controls",
            "_view_module_version": "1.5.0",
            "_view_name": "HBoxView",
            "box_style": "",
            "children": [
              "IPY_MODEL_5ddaaff6d4be431b99448d52380ec402",
              "IPY_MODEL_55ec3af15bd04316a016778dd87342e2",
              "IPY_MODEL_2d7bd06abddd40b6ac42689d11aef0cf"
            ],
            "layout": "IPY_MODEL_f915132d132a4c4187e984270094aac0"
          }
        },
        "5ddaaff6d4be431b99448d52380ec402": {
          "model_module": "@jupyter-widgets/controls",
          "model_name": "HTMLModel",
          "model_module_version": "1.5.0",
          "state": {
            "_dom_classes": [],
            "_model_module": "@jupyter-widgets/controls",
            "_model_module_version": "1.5.0",
            "_model_name": "HTMLModel",
            "_view_count": null,
            "_view_module": "@jupyter-widgets/controls",
            "_view_module_version": "1.5.0",
            "_view_name": "HTMLView",
            "description": "",
            "description_tooltip": null,
            "layout": "IPY_MODEL_b07b2d078ab34fd788f14f5d59c13d37",
            "placeholder": "​",
            "style": "IPY_MODEL_21807726a6da406288ce34e97afbf329",
            "value": "100%"
          }
        },
        "55ec3af15bd04316a016778dd87342e2": {
          "model_module": "@jupyter-widgets/controls",
          "model_name": "FloatProgressModel",
          "model_module_version": "1.5.0",
          "state": {
            "_dom_classes": [],
            "_model_module": "@jupyter-widgets/controls",
            "_model_module_version": "1.5.0",
            "_model_name": "FloatProgressModel",
            "_view_count": null,
            "_view_module": "@jupyter-widgets/controls",
            "_view_module_version": "1.5.0",
            "_view_name": "ProgressView",
            "bar_style": "success",
            "description": "",
            "description_tooltip": null,
            "layout": "IPY_MODEL_5e82269f6df44e5db5119e786d2b3bfe",
            "max": 7943,
            "min": 0,
            "orientation": "horizontal",
            "style": "IPY_MODEL_84b900be8e9e4353a15405b4d79cccd7",
            "value": 7943
          }
        },
        "2d7bd06abddd40b6ac42689d11aef0cf": {
          "model_module": "@jupyter-widgets/controls",
          "model_name": "HTMLModel",
          "model_module_version": "1.5.0",
          "state": {
            "_dom_classes": [],
            "_model_module": "@jupyter-widgets/controls",
            "_model_module_version": "1.5.0",
            "_model_name": "HTMLModel",
            "_view_count": null,
            "_view_module": "@jupyter-widgets/controls",
            "_view_module_version": "1.5.0",
            "_view_name": "HTMLView",
            "description": "",
            "description_tooltip": null,
            "layout": "IPY_MODEL_399657f3dce84252ad051980f0e0ca6f",
            "placeholder": "​",
            "style": "IPY_MODEL_8026d3a336c541c4bf651e8468466208",
            "value": " 7943/7943 [03:22&lt;00:00, 34.11it/s]"
          }
        },
        "f915132d132a4c4187e984270094aac0": {
          "model_module": "@jupyter-widgets/base",
          "model_name": "LayoutModel",
          "model_module_version": "1.2.0",
          "state": {
            "_model_module": "@jupyter-widgets/base",
            "_model_module_version": "1.2.0",
            "_model_name": "LayoutModel",
            "_view_count": null,
            "_view_module": "@jupyter-widgets/base",
            "_view_module_version": "1.2.0",
            "_view_name": "LayoutView",
            "align_content": null,
            "align_items": null,
            "align_self": null,
            "border": null,
            "bottom": null,
            "display": null,
            "flex": null,
            "flex_flow": null,
            "grid_area": null,
            "grid_auto_columns": null,
            "grid_auto_flow": null,
            "grid_auto_rows": null,
            "grid_column": null,
            "grid_gap": null,
            "grid_row": null,
            "grid_template_areas": null,
            "grid_template_columns": null,
            "grid_template_rows": null,
            "height": null,
            "justify_content": null,
            "justify_items": null,
            "left": null,
            "margin": null,
            "max_height": null,
            "max_width": null,
            "min_height": null,
            "min_width": null,
            "object_fit": null,
            "object_position": null,
            "order": null,
            "overflow": null,
            "overflow_x": null,
            "overflow_y": null,
            "padding": null,
            "right": null,
            "top": null,
            "visibility": null,
            "width": null
          }
        },
        "b07b2d078ab34fd788f14f5d59c13d37": {
          "model_module": "@jupyter-widgets/base",
          "model_name": "LayoutModel",
          "model_module_version": "1.2.0",
          "state": {
            "_model_module": "@jupyter-widgets/base",
            "_model_module_version": "1.2.0",
            "_model_name": "LayoutModel",
            "_view_count": null,
            "_view_module": "@jupyter-widgets/base",
            "_view_module_version": "1.2.0",
            "_view_name": "LayoutView",
            "align_content": null,
            "align_items": null,
            "align_self": null,
            "border": null,
            "bottom": null,
            "display": null,
            "flex": null,
            "flex_flow": null,
            "grid_area": null,
            "grid_auto_columns": null,
            "grid_auto_flow": null,
            "grid_auto_rows": null,
            "grid_column": null,
            "grid_gap": null,
            "grid_row": null,
            "grid_template_areas": null,
            "grid_template_columns": null,
            "grid_template_rows": null,
            "height": null,
            "justify_content": null,
            "justify_items": null,
            "left": null,
            "margin": null,
            "max_height": null,
            "max_width": null,
            "min_height": null,
            "min_width": null,
            "object_fit": null,
            "object_position": null,
            "order": null,
            "overflow": null,
            "overflow_x": null,
            "overflow_y": null,
            "padding": null,
            "right": null,
            "top": null,
            "visibility": null,
            "width": null
          }
        },
        "21807726a6da406288ce34e97afbf329": {
          "model_module": "@jupyter-widgets/controls",
          "model_name": "DescriptionStyleModel",
          "model_module_version": "1.5.0",
          "state": {
            "_model_module": "@jupyter-widgets/controls",
            "_model_module_version": "1.5.0",
            "_model_name": "DescriptionStyleModel",
            "_view_count": null,
            "_view_module": "@jupyter-widgets/base",
            "_view_module_version": "1.2.0",
            "_view_name": "StyleView",
            "description_width": ""
          }
        },
        "5e82269f6df44e5db5119e786d2b3bfe": {
          "model_module": "@jupyter-widgets/base",
          "model_name": "LayoutModel",
          "model_module_version": "1.2.0",
          "state": {
            "_model_module": "@jupyter-widgets/base",
            "_model_module_version": "1.2.0",
            "_model_name": "LayoutModel",
            "_view_count": null,
            "_view_module": "@jupyter-widgets/base",
            "_view_module_version": "1.2.0",
            "_view_name": "LayoutView",
            "align_content": null,
            "align_items": null,
            "align_self": null,
            "border": null,
            "bottom": null,
            "display": null,
            "flex": null,
            "flex_flow": null,
            "grid_area": null,
            "grid_auto_columns": null,
            "grid_auto_flow": null,
            "grid_auto_rows": null,
            "grid_column": null,
            "grid_gap": null,
            "grid_row": null,
            "grid_template_areas": null,
            "grid_template_columns": null,
            "grid_template_rows": null,
            "height": null,
            "justify_content": null,
            "justify_items": null,
            "left": null,
            "margin": null,
            "max_height": null,
            "max_width": null,
            "min_height": null,
            "min_width": null,
            "object_fit": null,
            "object_position": null,
            "order": null,
            "overflow": null,
            "overflow_x": null,
            "overflow_y": null,
            "padding": null,
            "right": null,
            "top": null,
            "visibility": null,
            "width": null
          }
        },
        "84b900be8e9e4353a15405b4d79cccd7": {
          "model_module": "@jupyter-widgets/controls",
          "model_name": "ProgressStyleModel",
          "model_module_version": "1.5.0",
          "state": {
            "_model_module": "@jupyter-widgets/controls",
            "_model_module_version": "1.5.0",
            "_model_name": "ProgressStyleModel",
            "_view_count": null,
            "_view_module": "@jupyter-widgets/base",
            "_view_module_version": "1.2.0",
            "_view_name": "StyleView",
            "bar_color": null,
            "description_width": ""
          }
        },
        "399657f3dce84252ad051980f0e0ca6f": {
          "model_module": "@jupyter-widgets/base",
          "model_name": "LayoutModel",
          "model_module_version": "1.2.0",
          "state": {
            "_model_module": "@jupyter-widgets/base",
            "_model_module_version": "1.2.0",
            "_model_name": "LayoutModel",
            "_view_count": null,
            "_view_module": "@jupyter-widgets/base",
            "_view_module_version": "1.2.0",
            "_view_name": "LayoutView",
            "align_content": null,
            "align_items": null,
            "align_self": null,
            "border": null,
            "bottom": null,
            "display": null,
            "flex": null,
            "flex_flow": null,
            "grid_area": null,
            "grid_auto_columns": null,
            "grid_auto_flow": null,
            "grid_auto_rows": null,
            "grid_column": null,
            "grid_gap": null,
            "grid_row": null,
            "grid_template_areas": null,
            "grid_template_columns": null,
            "grid_template_rows": null,
            "height": null,
            "justify_content": null,
            "justify_items": null,
            "left": null,
            "margin": null,
            "max_height": null,
            "max_width": null,
            "min_height": null,
            "min_width": null,
            "object_fit": null,
            "object_position": null,
            "order": null,
            "overflow": null,
            "overflow_x": null,
            "overflow_y": null,
            "padding": null,
            "right": null,
            "top": null,
            "visibility": null,
            "width": null
          }
        },
        "8026d3a336c541c4bf651e8468466208": {
          "model_module": "@jupyter-widgets/controls",
          "model_name": "DescriptionStyleModel",
          "model_module_version": "1.5.0",
          "state": {
            "_model_module": "@jupyter-widgets/controls",
            "_model_module_version": "1.5.0",
            "_model_name": "DescriptionStyleModel",
            "_view_count": null,
            "_view_module": "@jupyter-widgets/base",
            "_view_module_version": "1.2.0",
            "_view_name": "StyleView",
            "description_width": ""
          }
        },
        "222dc2af1b5842979dc16dba3ee4716b": {
          "model_module": "@jupyter-widgets/controls",
          "model_name": "HBoxModel",
          "model_module_version": "1.5.0",
          "state": {
            "_dom_classes": [],
            "_model_module": "@jupyter-widgets/controls",
            "_model_module_version": "1.5.0",
            "_model_name": "HBoxModel",
            "_view_count": null,
            "_view_module": "@jupyter-widgets/controls",
            "_view_module_version": "1.5.0",
            "_view_name": "HBoxView",
            "box_style": "",
            "children": [
              "IPY_MODEL_ccc89f4ecf2c4067b2648d4c023c96f2",
              "IPY_MODEL_8f57cae65c08407cad1ad76e0922bd33",
              "IPY_MODEL_afae73775dc24669bc92159c68639c5c"
            ],
            "layout": "IPY_MODEL_c78afc3d7d374b60bf1482ca821e6a02"
          }
        },
        "ccc89f4ecf2c4067b2648d4c023c96f2": {
          "model_module": "@jupyter-widgets/controls",
          "model_name": "HTMLModel",
          "model_module_version": "1.5.0",
          "state": {
            "_dom_classes": [],
            "_model_module": "@jupyter-widgets/controls",
            "_model_module_version": "1.5.0",
            "_model_name": "HTMLModel",
            "_view_count": null,
            "_view_module": "@jupyter-widgets/controls",
            "_view_module_version": "1.5.0",
            "_view_name": "HTMLView",
            "description": "",
            "description_tooltip": null,
            "layout": "IPY_MODEL_eee4be286ac546ebb0b2f4c5ab08acd1",
            "placeholder": "​",
            "style": "IPY_MODEL_dc1c5d2545f24631ae3188e9cea7a6e8",
            "value": "100%"
          }
        },
        "8f57cae65c08407cad1ad76e0922bd33": {
          "model_module": "@jupyter-widgets/controls",
          "model_name": "FloatProgressModel",
          "model_module_version": "1.5.0",
          "state": {
            "_dom_classes": [],
            "_model_module": "@jupyter-widgets/controls",
            "_model_module_version": "1.5.0",
            "_model_name": "FloatProgressModel",
            "_view_count": null,
            "_view_module": "@jupyter-widgets/controls",
            "_view_module_version": "1.5.0",
            "_view_name": "ProgressView",
            "bar_style": "success",
            "description": "",
            "description_tooltip": null,
            "layout": "IPY_MODEL_d4b1062662874a7d9a1cd9ae7811d198",
            "max": 7943,
            "min": 0,
            "orientation": "horizontal",
            "style": "IPY_MODEL_c665f49f82b04688a7ab9ce1ab866d62",
            "value": 7943
          }
        },
        "afae73775dc24669bc92159c68639c5c": {
          "model_module": "@jupyter-widgets/controls",
          "model_name": "HTMLModel",
          "model_module_version": "1.5.0",
          "state": {
            "_dom_classes": [],
            "_model_module": "@jupyter-widgets/controls",
            "_model_module_version": "1.5.0",
            "_model_name": "HTMLModel",
            "_view_count": null,
            "_view_module": "@jupyter-widgets/controls",
            "_view_module_version": "1.5.0",
            "_view_name": "HTMLView",
            "description": "",
            "description_tooltip": null,
            "layout": "IPY_MODEL_4cf7355a821e40b3b1bd0c440341160e",
            "placeholder": "​",
            "style": "IPY_MODEL_6b8dd72cafa24ee181ebe9a7369cb144",
            "value": " 7943/7943 [12:43&lt;00:00,  8.71it/s]"
          }
        },
        "c78afc3d7d374b60bf1482ca821e6a02": {
          "model_module": "@jupyter-widgets/base",
          "model_name": "LayoutModel",
          "model_module_version": "1.2.0",
          "state": {
            "_model_module": "@jupyter-widgets/base",
            "_model_module_version": "1.2.0",
            "_model_name": "LayoutModel",
            "_view_count": null,
            "_view_module": "@jupyter-widgets/base",
            "_view_module_version": "1.2.0",
            "_view_name": "LayoutView",
            "align_content": null,
            "align_items": null,
            "align_self": null,
            "border": null,
            "bottom": null,
            "display": null,
            "flex": null,
            "flex_flow": null,
            "grid_area": null,
            "grid_auto_columns": null,
            "grid_auto_flow": null,
            "grid_auto_rows": null,
            "grid_column": null,
            "grid_gap": null,
            "grid_row": null,
            "grid_template_areas": null,
            "grid_template_columns": null,
            "grid_template_rows": null,
            "height": null,
            "justify_content": null,
            "justify_items": null,
            "left": null,
            "margin": null,
            "max_height": null,
            "max_width": null,
            "min_height": null,
            "min_width": null,
            "object_fit": null,
            "object_position": null,
            "order": null,
            "overflow": null,
            "overflow_x": null,
            "overflow_y": null,
            "padding": null,
            "right": null,
            "top": null,
            "visibility": null,
            "width": null
          }
        },
        "eee4be286ac546ebb0b2f4c5ab08acd1": {
          "model_module": "@jupyter-widgets/base",
          "model_name": "LayoutModel",
          "model_module_version": "1.2.0",
          "state": {
            "_model_module": "@jupyter-widgets/base",
            "_model_module_version": "1.2.0",
            "_model_name": "LayoutModel",
            "_view_count": null,
            "_view_module": "@jupyter-widgets/base",
            "_view_module_version": "1.2.0",
            "_view_name": "LayoutView",
            "align_content": null,
            "align_items": null,
            "align_self": null,
            "border": null,
            "bottom": null,
            "display": null,
            "flex": null,
            "flex_flow": null,
            "grid_area": null,
            "grid_auto_columns": null,
            "grid_auto_flow": null,
            "grid_auto_rows": null,
            "grid_column": null,
            "grid_gap": null,
            "grid_row": null,
            "grid_template_areas": null,
            "grid_template_columns": null,
            "grid_template_rows": null,
            "height": null,
            "justify_content": null,
            "justify_items": null,
            "left": null,
            "margin": null,
            "max_height": null,
            "max_width": null,
            "min_height": null,
            "min_width": null,
            "object_fit": null,
            "object_position": null,
            "order": null,
            "overflow": null,
            "overflow_x": null,
            "overflow_y": null,
            "padding": null,
            "right": null,
            "top": null,
            "visibility": null,
            "width": null
          }
        },
        "dc1c5d2545f24631ae3188e9cea7a6e8": {
          "model_module": "@jupyter-widgets/controls",
          "model_name": "DescriptionStyleModel",
          "model_module_version": "1.5.0",
          "state": {
            "_model_module": "@jupyter-widgets/controls",
            "_model_module_version": "1.5.0",
            "_model_name": "DescriptionStyleModel",
            "_view_count": null,
            "_view_module": "@jupyter-widgets/base",
            "_view_module_version": "1.2.0",
            "_view_name": "StyleView",
            "description_width": ""
          }
        },
        "d4b1062662874a7d9a1cd9ae7811d198": {
          "model_module": "@jupyter-widgets/base",
          "model_name": "LayoutModel",
          "model_module_version": "1.2.0",
          "state": {
            "_model_module": "@jupyter-widgets/base",
            "_model_module_version": "1.2.0",
            "_model_name": "LayoutModel",
            "_view_count": null,
            "_view_module": "@jupyter-widgets/base",
            "_view_module_version": "1.2.0",
            "_view_name": "LayoutView",
            "align_content": null,
            "align_items": null,
            "align_self": null,
            "border": null,
            "bottom": null,
            "display": null,
            "flex": null,
            "flex_flow": null,
            "grid_area": null,
            "grid_auto_columns": null,
            "grid_auto_flow": null,
            "grid_auto_rows": null,
            "grid_column": null,
            "grid_gap": null,
            "grid_row": null,
            "grid_template_areas": null,
            "grid_template_columns": null,
            "grid_template_rows": null,
            "height": null,
            "justify_content": null,
            "justify_items": null,
            "left": null,
            "margin": null,
            "max_height": null,
            "max_width": null,
            "min_height": null,
            "min_width": null,
            "object_fit": null,
            "object_position": null,
            "order": null,
            "overflow": null,
            "overflow_x": null,
            "overflow_y": null,
            "padding": null,
            "right": null,
            "top": null,
            "visibility": null,
            "width": null
          }
        },
        "c665f49f82b04688a7ab9ce1ab866d62": {
          "model_module": "@jupyter-widgets/controls",
          "model_name": "ProgressStyleModel",
          "model_module_version": "1.5.0",
          "state": {
            "_model_module": "@jupyter-widgets/controls",
            "_model_module_version": "1.5.0",
            "_model_name": "ProgressStyleModel",
            "_view_count": null,
            "_view_module": "@jupyter-widgets/base",
            "_view_module_version": "1.2.0",
            "_view_name": "StyleView",
            "bar_color": null,
            "description_width": ""
          }
        },
        "4cf7355a821e40b3b1bd0c440341160e": {
          "model_module": "@jupyter-widgets/base",
          "model_name": "LayoutModel",
          "model_module_version": "1.2.0",
          "state": {
            "_model_module": "@jupyter-widgets/base",
            "_model_module_version": "1.2.0",
            "_model_name": "LayoutModel",
            "_view_count": null,
            "_view_module": "@jupyter-widgets/base",
            "_view_module_version": "1.2.0",
            "_view_name": "LayoutView",
            "align_content": null,
            "align_items": null,
            "align_self": null,
            "border": null,
            "bottom": null,
            "display": null,
            "flex": null,
            "flex_flow": null,
            "grid_area": null,
            "grid_auto_columns": null,
            "grid_auto_flow": null,
            "grid_auto_rows": null,
            "grid_column": null,
            "grid_gap": null,
            "grid_row": null,
            "grid_template_areas": null,
            "grid_template_columns": null,
            "grid_template_rows": null,
            "height": null,
            "justify_content": null,
            "justify_items": null,
            "left": null,
            "margin": null,
            "max_height": null,
            "max_width": null,
            "min_height": null,
            "min_width": null,
            "object_fit": null,
            "object_position": null,
            "order": null,
            "overflow": null,
            "overflow_x": null,
            "overflow_y": null,
            "padding": null,
            "right": null,
            "top": null,
            "visibility": null,
            "width": null
          }
        },
        "6b8dd72cafa24ee181ebe9a7369cb144": {
          "model_module": "@jupyter-widgets/controls",
          "model_name": "DescriptionStyleModel",
          "model_module_version": "1.5.0",
          "state": {
            "_model_module": "@jupyter-widgets/controls",
            "_model_module_version": "1.5.0",
            "_model_name": "DescriptionStyleModel",
            "_view_count": null,
            "_view_module": "@jupyter-widgets/base",
            "_view_module_version": "1.2.0",
            "_view_name": "StyleView",
            "description_width": ""
          }
        }
      }
    }
  },
  "cells": [
    {
      "cell_type": "markdown",
      "metadata": {
        "id": "view-in-github",
        "colab_type": "text"
      },
      "source": [
        "<a href=\"https://colab.research.google.com/github/wfaquieri/NLP_with_python/blob/main/winiciusfaquieri_nlpwithpy_pd.ipynb\" target=\"_parent\"><img src=\"https://colab.research.google.com/assets/colab-badge.svg\" alt=\"Open In Colab\"/></a>"
      ]
    },
    {
      "cell_type": "markdown",
      "source": [
        "# Projeto de Disciplina de Processamento de Linguagem Natural com Python\n",
        "\n",
        "Bem-vindo ao projeto de disciplina de **Processamento de Linguagem Natural com Python**. Ao longo das últimas aulas vimos uma série de aplicações que nos deram a amplitude de possibilidades em trabalhar com textos. Para tal, usamos diversas bibliotecas, onde as que mais se destacaram foram NLTK, SPACY e GENSIM.\n",
        "\n",
        "Esse notebook servirá de guia para a execução de uma análise de tópicos completa, usando o algoritmo de LDA e recursos para interpretação dos resultados. Utilizaremos notícias da seção \"Mercado\" extraídas da Folha de S. Paulo no ano de 2016.  Complete a análise com os códigos que achar pertinente e responda as questões presentes no Moodle. Boa sorte!\n",
        "\n",
        "## O Notebook\n",
        "\n",
        "Nesse notebook, você será guiado pela análise de **Extração de Tópicos**. As seguintes tarefas serão realizadas\n",
        "\n",
        "\n",
        "1.   Download dos dados provenientes do kaggle \n",
        "2.   Seleção dos dados relevantes para a nossa análise\n",
        "3.   Instalação das principais ferramentas e importação de módulos\n",
        "4.   Pré-processamento usando NLTK\n",
        "5.   Pré-processamento usando Spacy\n",
        "6.   Análise de tópicos usando LDA\n",
        "7.   Análise de NER usando Spacy\n",
        "8.   Visualização dos tópicos usando tokens e entidades.\n",
        "\n"
      ],
      "metadata": {
        "id": "s_NpsAsHItOr"
      }
    },
    {
      "cell_type": "markdown",
      "source": [
        "## Instruções para baixar os dados\n",
        "\n",
        "Para baixar os dados será necessário o uso do gerenciador de downloads da Kaggle. A Kaggle, uma subsidiária do grupo Alphabet (Google), é uma comunidade on-line de cientistas de dados e profissionais de aprendizado de máquina.\n",
        "\n",
        "Para utilizar o gerenciador, será necessário criar uma conta no site Kaggle.com.\n",
        "Com a conta criada, obtenha um token de acesso, no formato kaggle.json\n",
        "\n",
        "![token.png](data:image/png;base64,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)"
      ],
      "metadata": {
        "id": "5J7ydpVZLGYp"
      }
    },
    {
      "cell_type": "markdown",
      "source": [
        "Em posse do token (baixe para seu computador), execute a células da próxima seção para acessar os dados de interesse e baixá-los."
      ],
      "metadata": {
        "id": "8nAqC8_JMm54"
      }
    },
    {
      "cell_type": "markdown",
      "source": [
        "# Baixe os dados\n",
        "\n",
        "Instale o gerenciador kaggle no ambiente do Colab e faça o upload do arquivo kaggle.json "
      ],
      "metadata": {
        "id": "YW0KUuAVM7H3"
      }
    },
    {
      "cell_type": "code",
      "execution_count": 2,
      "metadata": {
        "id": "pJ7IIZV8KBd-",
        "colab": {
          "resources": {
            "http://localhost:8080/nbextensions/google.colab/files.js": {
              "data": "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",
              "ok": true,
              "headers": [
                [
                  "content-type",
                  "application/javascript"
                ]
              ],
              "status": 200,
              "status_text": ""
            }
          },
          "base_uri": "https://localhost:8080/",
          "height": 90
        },
        "outputId": "d2c35bad-4028-4ff6-d144-e9de04580716"
      },
      "outputs": [
        {
          "output_type": "display_data",
          "data": {
            "text/plain": [
              "<IPython.core.display.HTML object>"
            ],
            "text/html": [
              "\n",
              "     <input type=\"file\" id=\"files-8e1632bf-40b0-44ab-9a2a-f59ae062b1f1\" name=\"files[]\" multiple disabled\n",
              "        style=\"border:none\" />\n",
              "     <output id=\"result-8e1632bf-40b0-44ab-9a2a-f59ae062b1f1\">\n",
              "      Upload widget is only available when the cell has been executed in the\n",
              "      current browser session. Please rerun this cell to enable.\n",
              "      </output>\n",
              "      <script src=\"/nbextensions/google.colab/files.js\"></script> "
            ]
          },
          "metadata": {}
        },
        {
          "output_type": "stream",
          "name": "stdout",
          "text": [
            "Saving kaggle.json to kaggle.json\n"
          ]
        },
        {
          "output_type": "execute_result",
          "data": {
            "text/plain": [
              "{'kaggle.json': b'{\"username\":\"winiciusfaquieri\",\"key\":\"de0c802043fe6f165a2301693bdd5ec8\"}'}"
            ]
          },
          "metadata": {},
          "execution_count": 2
        }
      ],
      "source": [
        "!pip install -q kaggle\n",
        "!rm -rf kaggle.json\n",
        "from google.colab import files\n",
        "\n",
        "files.upload()"
      ]
    },
    {
      "cell_type": "markdown",
      "source": [
        "Crie a pasta .kaggle"
      ],
      "metadata": {
        "id": "LLlWEPPGNGbX"
      }
    },
    {
      "cell_type": "code",
      "source": [
        "!rm -rf .kaggle\n",
        "!mkdir .kaggle\n",
        "!cp kaggle.json .kaggle/\n",
        "!chmod 600 .kaggle/kaggle.json"
      ],
      "metadata": {
        "id": "LbDIrz7dAM_L"
      },
      "execution_count": 3,
      "outputs": []
    },
    {
      "cell_type": "markdown",
      "source": [
        "Baixe o dataset"
      ],
      "metadata": {
        "id": "ODCQbepdNKzw"
      }
    },
    {
      "cell_type": "code",
      "source": [
        "!mv .kaggle /root/\n",
        "!kaggle datasets download --force -d marlesson/news-of-the-site-folhauol"
      ],
      "metadata": {
        "id": "IQb28v1Q_odu",
        "colab": {
          "base_uri": "https://localhost:8080/"
        },
        "outputId": "429d8c72-30c3-45b8-e228-db4c50d0fc46"
      },
      "execution_count": 4,
      "outputs": [
        {
          "output_type": "stream",
          "name": "stdout",
          "text": [
            "Downloading news-of-the-site-folhauol.zip to /content\n",
            " 94% 176M/187M [00:01<00:00, 114MB/s]\n",
            "100% 187M/187M [00:01<00:00, 124MB/s]\n"
          ]
        }
      ]
    },
    {
      "cell_type": "markdown",
      "source": [
        "## Criar o DataFrame com os dados lidos diretamente da plataforma Kaggle"
      ],
      "metadata": {
        "id": "58h0gEezNNt3"
      }
    },
    {
      "cell_type": "code",
      "source": [
        "import pandas as pd\n",
        "from tqdm.auto import tqdm\n",
        "tqdm.pandas()\n",
        "\n",
        "df = pd.read_csv(\"news-of-the-site-folhauol.zip\")"
      ],
      "metadata": {
        "id": "t2jwPcZmACnN"
      },
      "execution_count": 5,
      "outputs": []
    },
    {
      "cell_type": "code",
      "source": [
        "## Visualizando o dataset\n",
        "df.head()"
      ],
      "metadata": {
        "colab": {
          "base_uri": "https://localhost:8080/"
        },
        "id": "noOWN0gX0giC",
        "outputId": "05ae557a-cef7-40fd-b355-ad01cb1da0a9"
      },
      "execution_count": 46,
      "outputs": [
        {
          "output_type": "execute_result",
          "data": {
            "text/plain": [
              "Timestamp('2017-10-01 00:00:00')"
            ]
          },
          "metadata": {},
          "execution_count": 46
        }
      ]
    },
    {
      "cell_type": "code",
      "source": [
        "## Visualizando as categorias distintas\n",
        "print('Visualizando as categorias:')\n",
        "print(df.category.unique())\n",
        "\n",
        "## Curiosidade: plotando uma nuvem de palavras com as categorias mais presentes na Folha de SP, entre 2015 e 2017. \n",
        "%matplotlib inline\n",
        "from wordcloud import WordCloud\n",
        "import matplotlib.pyplot as plt\n",
        "stopwords_pt = nltk.corpus.stopwords.words(\"portuguese\")\n",
        "stopwords_pt.extend([\"sobretudo\",\"colunas\"])\n",
        "fig, ax = plt.subplots(1, 1, figsize=(10, 10))\n",
        "wordcloud = WordCloud(stopwords=stopwords_pt,\n",
        "                      height=800,\n",
        "                     width=800).generate(' '.join(df.category.unique()))\n",
        "ax.imshow(wordcloud)\n",
        "ax.axis(\"off\")\n"
      ],
      "metadata": {
        "colab": {
          "base_uri": "https://localhost:8080/",
          "height": 766
        },
        "id": "fIFdB6oK2Kyf",
        "outputId": "b763042b-b11c-40fa-e79a-5b9253411ce8"
      },
      "execution_count": 44,
      "outputs": [
        {
          "output_type": "stream",
          "name": "stdout",
          "text": [
            "Visualizando as categorias:\n",
            "['poder' 'ilustrada' 'mercado' 'mundo' 'esporte' 'tec' 'cotidiano'\n",
            " 'ambiente' 'equilibrioesaude' 'sobretudo' 'colunas' 'educacao' 'tv'\n",
            " 'banco-de-dados' 'opiniao' 'ciencia' 'paineldoleitor' 'saopaulo'\n",
            " 'ilustrissima' 'seminariosfolha' 'turismo' 'empreendedorsocial'\n",
            " 'serafina' 'asmais' 'o-melhor-de-sao-paulo' 'bbc' 'comida' 'musica'\n",
            " 'folhinha' 'especial' 'treinamento' 'multimidia' 'cenarios-2017'\n",
            " 'topofmind' 'dw' 'ombudsman' 'contas-de-casa' 'mulher' '2016'\n",
            " 'guia-de-livros-discos-filmes' 'treinamentocienciaesaude' 'rfi' 'vice'\n",
            " 'bichos' 'euronews' 'guia-de-livros-filmes-discos' 'infograficos' '2015']\n"
          ]
        },
        {
          "output_type": "execute_result",
          "data": {
            "text/plain": [
              "(-0.5, 799.5, 799.5, -0.5)"
            ]
          },
          "metadata": {},
          "execution_count": 44
        },
        {
          "output_type": "display_data",
          "data": {
            "text/plain": [
              "<Figure size 720x720 with 1 Axes>"
            ],
            "image/png": "[encoded data removed]"
          },
          "metadata": {
            "needs_background": "light"
          }
        }
      ]
    },
    {
      "cell_type": "code",
      "source": [
        "## Otendo mais algumas informaçoes sobre o dataset\n",
        "\n",
        "print('O datatset está bem preenchido, apenas a coluna subcategory apresenta uma percentagem alta de valores nulos:')\n",
        "df.info()"
      ],
      "metadata": {
        "colab": {
          "base_uri": "https://localhost:8080/"
        },
        "id": "bAc93_Ue3Bgt",
        "outputId": "f012c5b2-c03a-4630-9a9d-1b0d313590ad"
      },
      "execution_count": 13,
      "outputs": [
        {
          "output_type": "stream",
          "name": "stdout",
          "text": [
            "O datatset está bem preenchido, apenas a coluna subcategory apresenta uma percentagem alta de valores nulos:\n",
            "<class 'pandas.core.frame.DataFrame'>\n",
            "RangeIndex: 167053 entries, 0 to 167052\n",
            "Data columns (total 6 columns):\n",
            " #   Column       Non-Null Count   Dtype \n",
            "---  ------       --------------   ----- \n",
            " 0   title        167053 non-null  object\n",
            " 1   text         166288 non-null  object\n",
            " 2   date         167053 non-null  object\n",
            " 3   category     167053 non-null  object\n",
            " 4   subcategory  29635 non-null   object\n",
            " 5   link         167053 non-null  object\n",
            "dtypes: object(6)\n",
            "memory usage: 7.6+ MB\n"
          ]
        }
      ]
    },
    {
      "cell_type": "markdown",
      "source": [
        "# Atualizar o SPACY e  instalar os modelos pt_core_news_lg"
      ],
      "metadata": {
        "id": "dSNTAT2nNU_M"
      }
    },
    {
      "cell_type": "code",
      "source": [
        "# Atualizando o spaCy e instalando o pipeline pt_core_news_lg (treinado para o idioma PT)\n",
        "!pip install -U spacy \n",
        "!pip install tf-estimator-nightly # tensorflow requer tf-estimator-nightly.\n",
        "!python -m spacy download pt_core_news_lg\n",
        "\n",
        "import spacy\n",
        "from spacy.lang.pt.stop_words import STOP_WORDS"
      ],
      "metadata": {
        "id": "k_KUolFmPDXx",
        "colab": {
          "base_uri": "https://localhost:8080/"
        },
        "outputId": "c8e197b4-cadf-4985-a798-30bcf5150b9d"
      },
      "execution_count": 17,
      "outputs": [
        {
          "output_type": "stream",
          "name": "stdout",
          "text": [
            "Requirement already satisfied: spacy in /usr/local/lib/python3.7/dist-packages (3.3.0)\n",
            "Requirement already satisfied: preshed<3.1.0,>=3.0.2 in /usr/local/lib/python3.7/dist-packages (from spacy) (3.0.6)\n",
            "Requirement already satisfied: numpy>=1.15.0 in /usr/local/lib/python3.7/dist-packages (from spacy) (1.21.6)\n",
            "Requirement already satisfied: thinc<8.1.0,>=8.0.14 in /usr/local/lib/python3.7/dist-packages (from spacy) (8.0.16)\n",
            "Requirement already satisfied: murmurhash<1.1.0,>=0.28.0 in /usr/local/lib/python3.7/dist-packages (from spacy) (1.0.7)\n",
            "Requirement already satisfied: wasabi<1.1.0,>=0.9.1 in /usr/local/lib/python3.7/dist-packages (from spacy) (0.9.1)\n",
            "Requirement already satisfied: jinja2 in /usr/local/lib/python3.7/dist-packages (from spacy) (2.11.3)\n",
            "Requirement already satisfied: typer<0.5.0,>=0.3.0 in /usr/local/lib/python3.7/dist-packages (from spacy) (0.4.1)\n",
            "Requirement already satisfied: tqdm<5.0.0,>=4.38.0 in /usr/local/lib/python3.7/dist-packages (from spacy) (4.64.0)\n",
            "Requirement already satisfied: spacy-legacy<3.1.0,>=3.0.9 in /usr/local/lib/python3.7/dist-packages (from spacy) (3.0.9)\n",
            "Requirement already satisfied: packaging>=20.0 in /usr/local/lib/python3.7/dist-packages (from spacy) (21.3)\n",
            "Requirement already satisfied: srsly<3.0.0,>=2.4.3 in /usr/local/lib/python3.7/dist-packages (from spacy) (2.4.3)\n",
            "Requirement already satisfied: spacy-loggers<2.0.0,>=1.0.0 in /usr/local/lib/python3.7/dist-packages (from spacy) (1.0.2)\n",
            "Requirement already satisfied: langcodes<4.0.0,>=3.2.0 in /usr/local/lib/python3.7/dist-packages (from spacy) (3.3.0)\n",
            "Requirement already satisfied: catalogue<2.1.0,>=2.0.6 in /usr/local/lib/python3.7/dist-packages (from spacy) (2.0.7)\n",
            "Requirement already satisfied: cymem<2.1.0,>=2.0.2 in /usr/local/lib/python3.7/dist-packages (from spacy) (2.0.6)\n",
            "Requirement already satisfied: setuptools in /usr/local/lib/python3.7/dist-packages (from spacy) (57.4.0)\n",
            "Requirement already satisfied: blis<0.8.0,>=0.4.0 in /usr/local/lib/python3.7/dist-packages (from spacy) (0.4.1)\n",
            "Requirement already satisfied: typing-extensions<4.0.0.0,>=3.7.4 in /usr/local/lib/python3.7/dist-packages (from spacy) (3.10.0.2)\n",
            "Requirement already satisfied: pydantic!=1.8,!=1.8.1,<1.9.0,>=1.7.4 in /usr/local/lib/python3.7/dist-packages (from spacy) (1.8.2)\n",
            "Requirement already satisfied: pathy>=0.3.5 in /usr/local/lib/python3.7/dist-packages (from spacy) (0.6.1)\n",
            "Requirement already satisfied: requests<3.0.0,>=2.13.0 in /usr/local/lib/python3.7/dist-packages (from spacy) (2.23.0)\n",
            "Requirement already satisfied: zipp>=0.5 in /usr/local/lib/python3.7/dist-packages (from catalogue<2.1.0,>=2.0.6->spacy) (3.8.0)\n",
            "Requirement already satisfied: pyparsing!=3.0.5,>=2.0.2 in /usr/local/lib/python3.7/dist-packages (from packaging>=20.0->spacy) (3.0.9)\n",
            "Requirement already satisfied: smart-open<6.0.0,>=5.0.0 in /usr/local/lib/python3.7/dist-packages (from pathy>=0.3.5->spacy) (5.2.1)\n",
            "Requirement already satisfied: idna<3,>=2.5 in /usr/local/lib/python3.7/dist-packages (from requests<3.0.0,>=2.13.0->spacy) (2.10)\n",
            "Requirement already satisfied: chardet<4,>=3.0.2 in /usr/local/lib/python3.7/dist-packages (from requests<3.0.0,>=2.13.0->spacy) (3.0.4)\n",
            "Requirement already satisfied: urllib3!=1.25.0,!=1.25.1,<1.26,>=1.21.1 in /usr/local/lib/python3.7/dist-packages (from requests<3.0.0,>=2.13.0->spacy) (1.24.3)\n",
            "Requirement already satisfied: certifi>=2017.4.17 in /usr/local/lib/python3.7/dist-packages (from requests<3.0.0,>=2.13.0->spacy) (2021.10.8)\n",
            "Requirement already satisfied: click<9.0.0,>=7.1.1 in /usr/local/lib/python3.7/dist-packages (from typer<0.5.0,>=0.3.0->spacy) (7.1.2)\n",
            "Requirement already satisfied: MarkupSafe>=0.23 in /usr/local/lib/python3.7/dist-packages (from jinja2->spacy) (2.0.1)\n",
            "Requirement already satisfied: tf-estimator-nightly in /usr/local/lib/python3.7/dist-packages (2.10.0.dev2022052008)\n",
            "Collecting pt-core-news-lg==3.3.0\n",
            "  Downloading https://github.com/explosion/spacy-models/releases/download/pt_core_news_lg-3.3.0/pt_core_news_lg-3.3.0-py3-none-any.whl (568.2 MB)\n",
            "\u001b[K     |████████████████████████████████| 568.2 MB 8.5 kB/s \n",
            "\u001b[?25hRequirement already satisfied: spacy<3.4.0,>=3.3.0.dev0 in /usr/local/lib/python3.7/dist-packages (from pt-core-news-lg==3.3.0) (3.3.0)\n",
            "Requirement already satisfied: langcodes<4.0.0,>=3.2.0 in /usr/local/lib/python3.7/dist-packages (from spacy<3.4.0,>=3.3.0.dev0->pt-core-news-lg==3.3.0) (3.3.0)\n",
            "Requirement already satisfied: cymem<2.1.0,>=2.0.2 in /usr/local/lib/python3.7/dist-packages (from spacy<3.4.0,>=3.3.0.dev0->pt-core-news-lg==3.3.0) (2.0.6)\n",
            "Requirement already satisfied: pathy>=0.3.5 in /usr/local/lib/python3.7/dist-packages (from spacy<3.4.0,>=3.3.0.dev0->pt-core-news-lg==3.3.0) (0.6.1)\n",
            "Requirement already satisfied: wasabi<1.1.0,>=0.9.1 in /usr/local/lib/python3.7/dist-packages (from spacy<3.4.0,>=3.3.0.dev0->pt-core-news-lg==3.3.0) (0.9.1)\n",
            "Requirement already satisfied: numpy>=1.15.0 in /usr/local/lib/python3.7/dist-packages (from spacy<3.4.0,>=3.3.0.dev0->pt-core-news-lg==3.3.0) (1.21.6)\n",
            "Requirement already satisfied: typing-extensions<4.0.0.0,>=3.7.4 in /usr/local/lib/python3.7/dist-packages (from spacy<3.4.0,>=3.3.0.dev0->pt-core-news-lg==3.3.0) (3.10.0.2)\n",
            "Requirement already satisfied: srsly<3.0.0,>=2.4.3 in /usr/local/lib/python3.7/dist-packages (from spacy<3.4.0,>=3.3.0.dev0->pt-core-news-lg==3.3.0) (2.4.3)\n",
            "Requirement already satisfied: tqdm<5.0.0,>=4.38.0 in /usr/local/lib/python3.7/dist-packages (from spacy<3.4.0,>=3.3.0.dev0->pt-core-news-lg==3.3.0) (4.64.0)\n",
            "Requirement already satisfied: packaging>=20.0 in /usr/local/lib/python3.7/dist-packages (from spacy<3.4.0,>=3.3.0.dev0->pt-core-news-lg==3.3.0) (21.3)\n",
            "Requirement already satisfied: spacy-legacy<3.1.0,>=3.0.9 in /usr/local/lib/python3.7/dist-packages (from spacy<3.4.0,>=3.3.0.dev0->pt-core-news-lg==3.3.0) (3.0.9)\n",
            "Requirement already satisfied: typer<0.5.0,>=0.3.0 in /usr/local/lib/python3.7/dist-packages (from spacy<3.4.0,>=3.3.0.dev0->pt-core-news-lg==3.3.0) (0.4.1)\n",
            "Requirement already satisfied: blis<0.8.0,>=0.4.0 in /usr/local/lib/python3.7/dist-packages (from spacy<3.4.0,>=3.3.0.dev0->pt-core-news-lg==3.3.0) (0.4.1)\n",
            "Requirement already satisfied: spacy-loggers<2.0.0,>=1.0.0 in /usr/local/lib/python3.7/dist-packages (from spacy<3.4.0,>=3.3.0.dev0->pt-core-news-lg==3.3.0) (1.0.2)\n",
            "Requirement already satisfied: catalogue<2.1.0,>=2.0.6 in /usr/local/lib/python3.7/dist-packages (from spacy<3.4.0,>=3.3.0.dev0->pt-core-news-lg==3.3.0) (2.0.7)\n",
            "Requirement already satisfied: murmurhash<1.1.0,>=0.28.0 in /usr/local/lib/python3.7/dist-packages (from spacy<3.4.0,>=3.3.0.dev0->pt-core-news-lg==3.3.0) (1.0.7)\n",
            "Requirement already satisfied: requests<3.0.0,>=2.13.0 in /usr/local/lib/python3.7/dist-packages (from spacy<3.4.0,>=3.3.0.dev0->pt-core-news-lg==3.3.0) (2.23.0)\n",
            "Requirement already satisfied: thinc<8.1.0,>=8.0.14 in /usr/local/lib/python3.7/dist-packages (from spacy<3.4.0,>=3.3.0.dev0->pt-core-news-lg==3.3.0) (8.0.16)\n",
            "Requirement already satisfied: preshed<3.1.0,>=3.0.2 in /usr/local/lib/python3.7/dist-packages (from spacy<3.4.0,>=3.3.0.dev0->pt-core-news-lg==3.3.0) (3.0.6)\n",
            "Requirement already satisfied: setuptools in /usr/local/lib/python3.7/dist-packages (from spacy<3.4.0,>=3.3.0.dev0->pt-core-news-lg==3.3.0) (57.4.0)\n",
            "Requirement already satisfied: pydantic!=1.8,!=1.8.1,<1.9.0,>=1.7.4 in /usr/local/lib/python3.7/dist-packages (from spacy<3.4.0,>=3.3.0.dev0->pt-core-news-lg==3.3.0) (1.8.2)\n",
            "Requirement already satisfied: jinja2 in /usr/local/lib/python3.7/dist-packages (from spacy<3.4.0,>=3.3.0.dev0->pt-core-news-lg==3.3.0) (2.11.3)\n",
            "Requirement already satisfied: zipp>=0.5 in /usr/local/lib/python3.7/dist-packages (from catalogue<2.1.0,>=2.0.6->spacy<3.4.0,>=3.3.0.dev0->pt-core-news-lg==3.3.0) (3.8.0)\n",
            "Requirement already satisfied: pyparsing!=3.0.5,>=2.0.2 in /usr/local/lib/python3.7/dist-packages (from packaging>=20.0->spacy<3.4.0,>=3.3.0.dev0->pt-core-news-lg==3.3.0) (3.0.9)\n",
            "Requirement already satisfied: smart-open<6.0.0,>=5.0.0 in /usr/local/lib/python3.7/dist-packages (from pathy>=0.3.5->spacy<3.4.0,>=3.3.0.dev0->pt-core-news-lg==3.3.0) (5.2.1)\n",
            "Requirement already satisfied: urllib3!=1.25.0,!=1.25.1,<1.26,>=1.21.1 in /usr/local/lib/python3.7/dist-packages (from requests<3.0.0,>=2.13.0->spacy<3.4.0,>=3.3.0.dev0->pt-core-news-lg==3.3.0) (1.24.3)\n",
            "Requirement already satisfied: certifi>=2017.4.17 in /usr/local/lib/python3.7/dist-packages (from requests<3.0.0,>=2.13.0->spacy<3.4.0,>=3.3.0.dev0->pt-core-news-lg==3.3.0) (2021.10.8)\n",
            "Requirement already satisfied: idna<3,>=2.5 in /usr/local/lib/python3.7/dist-packages (from requests<3.0.0,>=2.13.0->spacy<3.4.0,>=3.3.0.dev0->pt-core-news-lg==3.3.0) (2.10)\n",
            "Requirement already satisfied: chardet<4,>=3.0.2 in /usr/local/lib/python3.7/dist-packages (from requests<3.0.0,>=2.13.0->spacy<3.4.0,>=3.3.0.dev0->pt-core-news-lg==3.3.0) (3.0.4)\n",
            "Requirement already satisfied: click<9.0.0,>=7.1.1 in /usr/local/lib/python3.7/dist-packages (from typer<0.5.0,>=0.3.0->spacy<3.4.0,>=3.3.0.dev0->pt-core-news-lg==3.3.0) (7.1.2)\n",
            "Requirement already satisfied: MarkupSafe>=0.23 in /usr/local/lib/python3.7/dist-packages (from jinja2->spacy<3.4.0,>=3.3.0.dev0->pt-core-news-lg==3.3.0) (2.0.1)\n",
            "\u001b[38;5;2m✔ Download and installation successful\u001b[0m\n",
            "You can now load the package via spacy.load('pt_core_news_lg')\n"
          ]
        }
      ]
    },
    {
      "cell_type": "markdown",
      "source": [
        "## Instalar os datasets `stopwords`, `punkt` e `rslp` do nltk"
      ],
      "metadata": {
        "id": "EH983kgENeUf"
      }
    },
    {
      "cell_type": "code",
      "source": [
        "import nltk\n",
        "\n",
        "# Instalando os datasets stopwords, punkt e rslp do nltk\n",
        "nltk.download('punkt')\n",
        "nltk.download(\"stopwords\")\n",
        "nltk.download(\"rslp\")"
      ],
      "metadata": {
        "id": "q6KKTeHgPF3b",
        "colab": {
          "base_uri": "https://localhost:8080/"
        },
        "outputId": "e6f55532-ca6c-483f-93a1-19a32704b78c"
      },
      "execution_count": 15,
      "outputs": [
        {
          "output_type": "stream",
          "name": "stdout",
          "text": [
            "[nltk_data] Downloading package punkt to /root/nltk_data...\n",
            "[nltk_data]   Unzipping tokenizers/punkt.zip.\n",
            "[nltk_data] Downloading package stopwords to /root/nltk_data...\n",
            "[nltk_data]   Unzipping corpora/stopwords.zip.\n",
            "[nltk_data] Downloading package rslp to /root/nltk_data...\n",
            "[nltk_data]   Unzipping stemmers/rslp.zip.\n"
          ]
        },
        {
          "output_type": "execute_result",
          "data": {
            "text/plain": [
              "True"
            ]
          },
          "metadata": {},
          "execution_count": 15
        }
      ]
    },
    {
      "cell_type": "markdown",
      "source": [
        "## Carregar os módulos usados ao longo desse notebook"
      ],
      "metadata": {
        "id": "1vgbGyn0Nsg7"
      }
    },
    {
      "cell_type": "code",
      "source": [
        "!pip install pyldavis &> /dev/null\n",
        "\n",
        "import warnings\n",
        "warnings.filterwarnings('ignore')\n",
        "\n",
        "from sklearn.feature_extraction.text import TfidfVectorizer\n",
        "from sklearn.decomposition import LatentDirichletAllocation as LDA\n",
        "import numpy as np\n",
        "\n",
        "import pyLDAvis\n",
        "import pyLDAvis.sklearn\n",
        "\n",
        "from wordcloud import WordCloud\n",
        "\n",
        "import seaborn as sns\n",
        "import matplotlib.pyplot as plt\n",
        "from itertools import chain\n",
        "\n",
        "from typing import List, Set, Any\n",
        "\n",
        "\n",
        "SEED = 123"
      ],
      "metadata": {
        "id": "CkvbUB4woQFo",
        "colab": {
          "base_uri": "https://localhost:8080/"
        },
        "outputId": "6d1508cf-fdfd-4c16-b326-792ba8bea3c5"
      },
      "execution_count": 18,
      "outputs": [
        {
          "output_type": "stream",
          "name": "stderr",
          "text": [
            "/usr/local/lib/python3.7/dist-packages/past/types/oldstr.py:5: DeprecationWarning: Using or importing the ABCs from 'collections' instead of from 'collections.abc' is deprecated since Python 3.3,and in 3.9 it will stop working\n",
            "  from collections import Iterable\n",
            "/usr/local/lib/python3.7/dist-packages/past/builtins/misc.py:4: DeprecationWarning: Using or importing the ABCs from 'collections' instead of from 'collections.abc' is deprecated since Python 3.3,and in 3.9 it will stop working\n",
            "  from collections import Mapping\n"
          ]
        }
      ]
    },
    {
      "cell_type": "markdown",
      "source": [
        "# Filtrando os dados para utilizar apenas as notícias do ano de 2016 e da categoria \"Mercado\"\n",
        "\n",
        "Filtre os dados do DataFrame df e crie um DataFrame news_2016 que contenha apenas notícias de **2016** e da categoria **mercado**."
      ],
      "metadata": {
        "id": "E02_RcvPNw5T"
      }
    },
    {
      "cell_type": "code",
      "source": [
        "# Alterando o formato da data para datetime\n",
        "df['date'] = pd.to_datetime(df.date)\n",
        "\n",
        "# Criando um dataframe nomeado 'news_2016'\n",
        "news_2016 = df.query('date >= \"2016-01-01\" and date <= \"2016-12-31\" and category == \"mercado\"')\n",
        "\n",
        "display(news_2016) # 7943 rows × 6 columns # check rows, ok!"
      ],
      "metadata": {
        "id": "bce0QMD9Cd2N",
        "colab": {
          "base_uri": "https://localhost:8080/",
          "height": 641
        },
        "outputId": "7902e2ed-33cf-4456-82a0-738c10ea6366"
      },
      "execution_count": 29,
      "outputs": [
        {
          "output_type": "display_data",
          "data": {
            "text/plain": [
              "                                                   title  \\\n",
              "34207  Fazendeira cria própria rede de banda larga e ...   \n",
              "34238  Alteração na cobrança do ICMS eleva conta de c...   \n",
              "34245  Ajustes sobre servidores públicos emperram nos...   \n",
              "34248  Inventor da internet das coisas ataca mitos so...   \n",
              "34249  Livro analisa empresas de crescimento exponenc...   \n",
              "...                                                  ...   \n",
              "94280  Previsões para economia dependem de rumos do g...   \n",
              "94295  Repelentes e água de coco lideram a lista de s...   \n",
              "94301  Renda em queda leva mais pessoas às filas de e...   \n",
              "94310  Brasil pode perder até 2,2 milhões de vagas fo...   \n",
              "94314  Usina nuclear Angra 3 procura verba e saídas p...   \n",
              "\n",
              "                                                    text       date category  \\\n",
              "34207  \"Sou apenas a mulher de um fazendeiro\", diz Ch... 2016-12-31  mercado   \n",
              "34238  A conta do celular pós-pago ou controle ficará... 2016-12-31  mercado   \n",
              "34245  A maior parte dos projetos de ajuste das conta... 2016-12-31  mercado   \n",
              "34248  Desde as primeiras décadas do século 19 se diz... 2016-12-31  mercado   \n",
              "34249  O Cifras & Letras seleciona semanalmente lança... 2016-12-31  mercado   \n",
              "...                                                  ...        ...      ...   \n",
              "94280  Para o economista Rodolfo Margato, do banco Sa... 2016-01-01  mercado   \n",
              "94295  Conveniência, saúde, boa forma e prazer. As te... 2016-01-01  mercado   \n",
              "94301  Com o rendimento em queda, mais pessoas são fo... 2016-01-01  mercado   \n",
              "94310  O Brasil pode perder até 2,2 milhões de vagas ... 2016-01-01  mercado   \n",
              "94314  Enquanto briga com a falta de dinheiro em caix... 2016-01-01  mercado   \n",
              "\n",
              "      subcategory                                               link  \n",
              "34207         NaN  http://www1.folha.uol.com.br/mercado/2016/12/1...  \n",
              "34238         NaN  http://www1.folha.uol.com.br/mercado/2016/12/1...  \n",
              "34245         NaN  http://www1.folha.uol.com.br/mercado/2016/12/1...  \n",
              "34248         NaN  http://www1.folha.uol.com.br/mercado/2016/12/1...  \n",
              "34249         NaN  http://www1.folha.uol.com.br/mercado/2016/12/1...  \n",
              "...           ...                                                ...  \n",
              "94280         NaN  http://www1.folha.uol.com.br/mercado/2016/01/1...  \n",
              "94295         NaN  http://www1.folha.uol.com.br/mercado/2016/01/1...  \n",
              "94301         NaN  http://www1.folha.uol.com.br/mercado/2016/01/1...  \n",
              "94310         NaN  http://www1.folha.uol.com.br/mercado/2016/01/1...  \n",
              "94314         NaN  http://www1.folha.uol.com.br/mercado/2016/01/1...  \n",
              "\n",
              "[7943 rows x 6 columns]"
            ],
            "text/html": [
              "\n",
              "  <div id=\"df-674eaf4f-118f-4d76-a034-3b8c82604716\">\n",
              "    <div class=\"colab-df-container\">\n",
              "      <div>\n",
              "<style scoped>\n",
              "    .dataframe tbody tr th:only-of-type {\n",
              "        vertical-align: middle;\n",
              "    }\n",
              "\n",
              "    .dataframe tbody tr th {\n",
              "        vertical-align: top;\n",
              "    }\n",
              "\n",
              "    .dataframe thead th {\n",
              "        text-align: right;\n",
              "    }\n",
              "</style>\n",
              "<table border=\"1\" class=\"dataframe\">\n",
              "  <thead>\n",
              "    <tr style=\"text-align: right;\">\n",
              "      <th></th>\n",
              "      <th>title</th>\n",
              "      <th>text</th>\n",
              "      <th>date</th>\n",
              "      <th>category</th>\n",
              "      <th>subcategory</th>\n",
              "      <th>link</th>\n",
              "    </tr>\n",
              "  </thead>\n",
              "  <tbody>\n",
              "    <tr>\n",
              "      <th>34207</th>\n",
              "      <td>Fazendeira cria própria rede de banda larga e ...</td>\n",
              "      <td>\"Sou apenas a mulher de um fazendeiro\", diz Ch...</td>\n",
              "      <td>2016-12-31</td>\n",
              "      <td>mercado</td>\n",
              "      <td>NaN</td>\n",
              "      <td>http://www1.folha.uol.com.br/mercado/2016/12/1...</td>\n",
              "    </tr>\n",
              "    <tr>\n",
              "      <th>34238</th>\n",
              "      <td>Alteração na cobrança do ICMS eleva conta de c...</td>\n",
              "      <td>A conta do celular pós-pago ou controle ficará...</td>\n",
              "      <td>2016-12-31</td>\n",
              "      <td>mercado</td>\n",
              "      <td>NaN</td>\n",
              "      <td>http://www1.folha.uol.com.br/mercado/2016/12/1...</td>\n",
              "    </tr>\n",
              "    <tr>\n",
              "      <th>34245</th>\n",
              "      <td>Ajustes sobre servidores públicos emperram nos...</td>\n",
              "      <td>A maior parte dos projetos de ajuste das conta...</td>\n",
              "      <td>2016-12-31</td>\n",
              "      <td>mercado</td>\n",
              "      <td>NaN</td>\n",
              "      <td>http://www1.folha.uol.com.br/mercado/2016/12/1...</td>\n",
              "    </tr>\n",
              "    <tr>\n",
              "      <th>34248</th>\n",
              "      <td>Inventor da internet das coisas ataca mitos so...</td>\n",
              "      <td>Desde as primeiras décadas do século 19 se diz...</td>\n",
              "      <td>2016-12-31</td>\n",
              "      <td>mercado</td>\n",
              "      <td>NaN</td>\n",
              "      <td>http://www1.folha.uol.com.br/mercado/2016/12/1...</td>\n",
              "    </tr>\n",
              "    <tr>\n",
              "      <th>34249</th>\n",
              "      <td>Livro analisa empresas de crescimento exponenc...</td>\n",
              "      <td>O Cifras &amp; Letras seleciona semanalmente lança...</td>\n",
              "      <td>2016-12-31</td>\n",
              "      <td>mercado</td>\n",
              "      <td>NaN</td>\n",
              "      <td>http://www1.folha.uol.com.br/mercado/2016/12/1...</td>\n",
              "    </tr>\n",
              "    <tr>\n",
              "      <th>...</th>\n",
              "      <td>...</td>\n",
              "      <td>...</td>\n",
              "      <td>...</td>\n",
              "      <td>...</td>\n",
              "      <td>...</td>\n",
              "      <td>...</td>\n",
              "    </tr>\n",
              "    <tr>\n",
              "      <th>94280</th>\n",
              "      <td>Previsões para economia dependem de rumos do g...</td>\n",
              "      <td>Para o economista Rodolfo Margato, do banco Sa...</td>\n",
              "      <td>2016-01-01</td>\n",
              "      <td>mercado</td>\n",
              "      <td>NaN</td>\n",
              "      <td>http://www1.folha.uol.com.br/mercado/2016/01/1...</td>\n",
              "    </tr>\n",
              "    <tr>\n",
              "      <th>94295</th>\n",
              "      <td>Repelentes e água de coco lideram a lista de s...</td>\n",
              "      <td>Conveniência, saúde, boa forma e prazer. As te...</td>\n",
              "      <td>2016-01-01</td>\n",
              "      <td>mercado</td>\n",
              "      <td>NaN</td>\n",
              "      <td>http://www1.folha.uol.com.br/mercado/2016/01/1...</td>\n",
              "    </tr>\n",
              "    <tr>\n",
              "      <th>94301</th>\n",
              "      <td>Renda em queda leva mais pessoas às filas de e...</td>\n",
              "      <td>Com o rendimento em queda, mais pessoas são fo...</td>\n",
              "      <td>2016-01-01</td>\n",
              "      <td>mercado</td>\n",
              "      <td>NaN</td>\n",
              "      <td>http://www1.folha.uol.com.br/mercado/2016/01/1...</td>\n",
              "    </tr>\n",
              "    <tr>\n",
              "      <th>94310</th>\n",
              "      <td>Brasil pode perder até 2,2 milhões de vagas fo...</td>\n",
              "      <td>O Brasil pode perder até 2,2 milhões de vagas ...</td>\n",
              "      <td>2016-01-01</td>\n",
              "      <td>mercado</td>\n",
              "      <td>NaN</td>\n",
              "      <td>http://www1.folha.uol.com.br/mercado/2016/01/1...</td>\n",
              "    </tr>\n",
              "    <tr>\n",
              "      <th>94314</th>\n",
              "      <td>Usina nuclear Angra 3 procura verba e saídas p...</td>\n",
              "      <td>Enquanto briga com a falta de dinheiro em caix...</td>\n",
              "      <td>2016-01-01</td>\n",
              "      <td>mercado</td>\n",
              "      <td>NaN</td>\n",
              "      <td>http://www1.folha.uol.com.br/mercado/2016/01/1...</td>\n",
              "    </tr>\n",
              "  </tbody>\n",
              "</table>\n",
              "<p>7943 rows × 6 columns</p>\n",
              "</div>\n",
              "      <button class=\"colab-df-convert\" onclick=\"convertToInteractive('df-674eaf4f-118f-4d76-a034-3b8c82604716')\"\n",
              "              title=\"Convert this dataframe to an interactive table.\"\n",
              "              style=\"display:none;\">\n",
              "        \n",
              "  <svg xmlns=\"http://www.w3.org/2000/svg\" height=\"24px\"viewBox=\"0 0 24 24\"\n",
              "       width=\"24px\">\n",
              "    <path d=\"M0 0h24v24H0V0z\" fill=\"none\"/>\n",
              "    <path d=\"M18.56 5.44l.94 2.06.94-2.06 2.06-.94-2.06-.94-.94-2.06-.94 2.06-2.06.94zm-11 1L8.5 8.5l.94-2.06 2.06-.94-2.06-.94L8.5 2.5l-.94 2.06-2.06.94zm10 10l.94 2.06.94-2.06 2.06-.94-2.06-.94-.94-2.06-.94 2.06-2.06.94z\"/><path d=\"M17.41 7.96l-1.37-1.37c-.4-.4-.92-.59-1.43-.59-.52 0-1.04.2-1.43.59L10.3 9.45l-7.72 7.72c-.78.78-.78 2.05 0 2.83L4 21.41c.39.39.9.59 1.41.59.51 0 1.02-.2 1.41-.59l7.78-7.78 2.81-2.81c.8-.78.8-2.07 0-2.86zM5.41 20L4 18.59l7.72-7.72 1.47 1.35L5.41 20z\"/>\n",
              "  </svg>\n",
              "      </button>\n",
              "      \n",
              "  <style>\n",
              "    .colab-df-container {\n",
              "      display:flex;\n",
              "      flex-wrap:wrap;\n",
              "      gap: 12px;\n",
              "    }\n",
              "\n",
              "    .colab-df-convert {\n",
              "      background-color: #E8F0FE;\n",
              "      border: none;\n",
              "      border-radius: 50%;\n",
              "      cursor: pointer;\n",
              "      display: none;\n",
              "      fill: #1967D2;\n",
              "      height: 32px;\n",
              "      padding: 0 0 0 0;\n",
              "      width: 32px;\n",
              "    }\n",
              "\n",
              "    .colab-df-convert:hover {\n",
              "      background-color: #E2EBFA;\n",
              "      box-shadow: 0px 1px 2px rgba(60, 64, 67, 0.3), 0px 1px 3px 1px rgba(60, 64, 67, 0.15);\n",
              "      fill: #174EA6;\n",
              "    }\n",
              "\n",
              "    [theme=dark] .colab-df-convert {\n",
              "      background-color: #3B4455;\n",
              "      fill: #D2E3FC;\n",
              "    }\n",
              "\n",
              "    [theme=dark] .colab-df-convert:hover {\n",
              "      background-color: #434B5C;\n",
              "      box-shadow: 0px 1px 3px 1px rgba(0, 0, 0, 0.15);\n",
              "      filter: drop-shadow(0px 1px 2px rgba(0, 0, 0, 0.3));\n",
              "      fill: #FFFFFF;\n",
              "    }\n",
              "  </style>\n",
              "\n",
              "      <script>\n",
              "        const buttonEl =\n",
              "          document.querySelector('#df-674eaf4f-118f-4d76-a034-3b8c82604716 button.colab-df-convert');\n",
              "        buttonEl.style.display =\n",
              "          google.colab.kernel.accessAllowed ? 'block' : 'none';\n",
              "\n",
              "        async function convertToInteractive(key) {\n",
              "          const element = document.querySelector('#df-674eaf4f-118f-4d76-a034-3b8c82604716');\n",
              "          const dataTable =\n",
              "            await google.colab.kernel.invokeFunction('convertToInteractive',\n",
              "                                                     [key], {});\n",
              "          if (!dataTable) return;\n",
              "\n",
              "          const docLinkHtml = 'Like what you see? Visit the ' +\n",
              "            '<a target=\"_blank\" href=https://colab.research.google.com/notebooks/data_table.ipynb>data table notebook</a>'\n",
              "            + ' to learn more about interactive tables.';\n",
              "          element.innerHTML = '';\n",
              "          dataTable['output_type'] = 'display_data';\n",
              "          await google.colab.output.renderOutput(dataTable, element);\n",
              "          const docLink = document.createElement('div');\n",
              "          docLink.innerHTML = docLinkHtml;\n",
              "          element.appendChild(docLink);\n",
              "        }\n",
              "      </script>\n",
              "    </div>\n",
              "  </div>\n",
              "  "
            ]
          },
          "metadata": {}
        }
      ]
    },
    {
      "cell_type": "markdown",
      "source": [
        "## NLTK Tokenizer and Stemmer\n",
        "\n",
        "Crie uma coluna no dataframe `news_2016` contendo os tokens para cada um dos textos. Os tokens devem estar representados pelo radical das palavras (stem). \n",
        "Para tal, complete o conteúdo da função `tokenize`."
      ],
      "metadata": {
        "id": "vksOPQxsOXr6"
      }
    },
    {
      "cell_type": "code",
      "source": [
        "from nltk.tokenize import word_tokenize\n",
        "from nltk.stem import RSLPStemmer\n",
        "\n",
        "def tokenize(text: str) -> List:\n",
        "  \"\"\"\n",
        "  Function for tokenizing using `nltk.tokenize.word_tokenize`\n",
        "  \n",
        "  Returns:\n",
        "    - A list of stemmed tokens (`nltk.stem.RSLPStemmer`)\n",
        "    IMPORTANT: Only tokens with alphabetic\n",
        "               characters will be returned.\n",
        "  \"\"\"\n",
        "  # text normalization\n",
        "  tokens = nltk.word_tokenize(text)\n",
        "  words  = [token for token in tokens if token.isalpha()]\n",
        "  st = RSLPStemmer()\n",
        "  stemmed_tokens = [st.stem(t) for t in words]\n",
        "  return ' '.join(stemmed_tokens)\n",
        "\n",
        "news_2016.loc[:, 'nltk_tokens'] = news_2016.text.progress_map(tokenize)"
      ],
      "metadata": {
        "id": "e0kNSRccMBy5",
        "colab": {
          "base_uri": "https://localhost:8080/",
          "height": 49,
          "referenced_widgets": [
            "73fac9e99881450c875a4dad3b955629",
            "5ddaaff6d4be431b99448d52380ec402",
            "55ec3af15bd04316a016778dd87342e2",
            "2d7bd06abddd40b6ac42689d11aef0cf",
            "f915132d132a4c4187e984270094aac0",
            "b07b2d078ab34fd788f14f5d59c13d37",
            "21807726a6da406288ce34e97afbf329",
            "5e82269f6df44e5db5119e786d2b3bfe",
            "84b900be8e9e4353a15405b4d79cccd7",
            "399657f3dce84252ad051980f0e0ca6f",
            "8026d3a336c541c4bf651e8468466208"
          ]
        },
        "outputId": "4590728e-61c9-4f5d-d170-eb4d05c3c635"
      },
      "execution_count": 52,
      "outputs": [
        {
          "output_type": "display_data",
          "data": {
            "text/plain": [
              "  0%|          | 0/7943 [00:00<?, ?it/s]"
            ],
            "application/vnd.jupyter.widget-view+json": {
              "version_major": 2,
              "version_minor": 0,
              "model_id": "73fac9e99881450c875a4dad3b955629"
            }
          },
          "metadata": {}
        }
      ]
    },
    {
      "cell_type": "code",
      "source": [
        "news_2016"
      ],
      "metadata": {
        "colab": {
          "base_uri": "https://localhost:8080/",
          "height": 815
        },
        "id": "C6cHykv-qlb6",
        "outputId": "bc9285b9-0917-491d-ff4c-9c7df1806760"
      },
      "execution_count": 53,
      "outputs": [
        {
          "output_type": "execute_result",
          "data": {
            "text/plain": [
              "                                                   title  \\\n",
              "34207  Fazendeira cria própria rede de banda larga e ...   \n",
              "34238  Alteração na cobrança do ICMS eleva conta de c...   \n",
              "34245  Ajustes sobre servidores públicos emperram nos...   \n",
              "34248  Inventor da internet das coisas ataca mitos so...   \n",
              "34249  Livro analisa empresas de crescimento exponenc...   \n",
              "...                                                  ...   \n",
              "94280  Previsões para economia dependem de rumos do g...   \n",
              "94295  Repelentes e água de coco lideram a lista de s...   \n",
              "94301  Renda em queda leva mais pessoas às filas de e...   \n",
              "94310  Brasil pode perder até 2,2 milhões de vagas fo...   \n",
              "94314  Usina nuclear Angra 3 procura verba e saídas p...   \n",
              "\n",
              "                                                    text       date category  \\\n",
              "34207  \"Sou apenas a mulher de um fazendeiro\", diz Ch... 2016-12-31  mercado   \n",
              "34238  A conta do celular pós-pago ou controle ficará... 2016-12-31  mercado   \n",
              "34245  A maior parte dos projetos de ajuste das conta... 2016-12-31  mercado   \n",
              "34248  Desde as primeiras décadas do século 19 se diz... 2016-12-31  mercado   \n",
              "34249  O Cifras & Letras seleciona semanalmente lança... 2016-12-31  mercado   \n",
              "...                                                  ...        ...      ...   \n",
              "94280  Para o economista Rodolfo Margato, do banco Sa... 2016-01-01  mercado   \n",
              "94295  Conveniência, saúde, boa forma e prazer. As te... 2016-01-01  mercado   \n",
              "94301  Com o rendimento em queda, mais pessoas são fo... 2016-01-01  mercado   \n",
              "94310  O Brasil pode perder até 2,2 milhões de vagas ... 2016-01-01  mercado   \n",
              "94314  Enquanto briga com a falta de dinheiro em caix... 2016-01-01  mercado   \n",
              "\n",
              "      subcategory                                               link  \\\n",
              "34207         NaN  http://www1.folha.uol.com.br/mercado/2016/12/1...   \n",
              "34238         NaN  http://www1.folha.uol.com.br/mercado/2016/12/1...   \n",
              "34245         NaN  http://www1.folha.uol.com.br/mercado/2016/12/1...   \n",
              "34248         NaN  http://www1.folha.uol.com.br/mercado/2016/12/1...   \n",
              "34249         NaN  http://www1.folha.uol.com.br/mercado/2016/12/1...   \n",
              "...           ...                                                ...   \n",
              "94280         NaN  http://www1.folha.uol.com.br/mercado/2016/01/1...   \n",
              "94295         NaN  http://www1.folha.uol.com.br/mercado/2016/01/1...   \n",
              "94301         NaN  http://www1.folha.uol.com.br/mercado/2016/01/1...   \n",
              "94310         NaN  http://www1.folha.uol.com.br/mercado/2016/01/1...   \n",
              "94314         NaN  http://www1.folha.uol.com.br/mercado/2016/01/1...   \n",
              "\n",
              "                                             nltk_tokens  \\\n",
              "34207  sou apen a mulh de um fazend diz christin cond...   \n",
              "34238  a cont do celul ou control fic mais car a part...   \n",
              "34245  a mai part do projet de ajust da cont públic a...   \n",
              "34248  desd as prim déc do sécul se diz que as not de...   \n",
              "34249  o cifr letr selec seman lanç na áre de negóci ...   \n",
              "...                                                  ...   \n",
              "94280  par o econom rodolf margat do banc santand a e...   \n",
              "94295  conveni saúd boa form e praz as tend de consum...   \n",
              "94301  com o rend em qued mais pesso são forç a busc ...   \n",
              "94310  o brasil pod perd até milhã de vag com cart as...   \n",
              "94314  enquant brig com a falt de dinh em caix e com ...   \n",
              "\n",
              "                                               spacy_doc  \n",
              "34207  (\", Sou, apenas, a, mulher, de, um, fazendeiro...  \n",
              "34238  (A, conta, do, celular, pós-pago, ou, controle...  \n",
              "34245  (A, maior, parte, dos, projetos, de, ajuste, d...  \n",
              "34248  (Desde, as, primeiras, décadas, do, século, 19...  \n",
              "34249  (O, Cifras, &, Letras, seleciona, semanalmente...  \n",
              "...                                                  ...  \n",
              "94280  (Para, o, economista, Rodolfo, Margato, ,, do,...  \n",
              "94295  (Conveniência, ,, saúde, ,, boa, forma, e, pra...  \n",
              "94301  (Com, o, rendimento, em, queda, ,, mais, pesso...  \n",
              "94310  (O, Brasil, pode, perder, até, 2,2, milhões, d...  \n",
              "94314  (Enquanto, briga, com, a, falta, de, dinheiro,...  \n",
              "\n",
              "[7943 rows x 8 columns]"
            ],
            "text/html": [
              "\n",
              "  <div id=\"df-1d2fb820-7255-4883-aeb8-f205b0d80f35\">\n",
              "    <div class=\"colab-df-container\">\n",
              "      <div>\n",
              "<style scoped>\n",
              "    .dataframe tbody tr th:only-of-type {\n",
              "        vertical-align: middle;\n",
              "    }\n",
              "\n",
              "    .dataframe tbody tr th {\n",
              "        vertical-align: top;\n",
              "    }\n",
              "\n",
              "    .dataframe thead th {\n",
              "        text-align: right;\n",
              "    }\n",
              "</style>\n",
              "<table border=\"1\" class=\"dataframe\">\n",
              "  <thead>\n",
              "    <tr style=\"text-align: right;\">\n",
              "      <th></th>\n",
              "      <th>title</th>\n",
              "      <th>text</th>\n",
              "      <th>date</th>\n",
              "      <th>category</th>\n",
              "      <th>subcategory</th>\n",
              "      <th>link</th>\n",
              "      <th>nltk_tokens</th>\n",
              "      <th>spacy_doc</th>\n",
              "    </tr>\n",
              "  </thead>\n",
              "  <tbody>\n",
              "    <tr>\n",
              "      <th>34207</th>\n",
              "      <td>Fazendeira cria própria rede de banda larga e ...</td>\n",
              "      <td>\"Sou apenas a mulher de um fazendeiro\", diz Ch...</td>\n",
              "      <td>2016-12-31</td>\n",
              "      <td>mercado</td>\n",
              "      <td>NaN</td>\n",
              "      <td>http://www1.folha.uol.com.br/mercado/2016/12/1...</td>\n",
              "      <td>sou apen a mulh de um fazend diz christin cond...</td>\n",
              "      <td>(\", Sou, apenas, a, mulher, de, um, fazendeiro...</td>\n",
              "    </tr>\n",
              "    <tr>\n",
              "      <th>34238</th>\n",
              "      <td>Alteração na cobrança do ICMS eleva conta de c...</td>\n",
              "      <td>A conta do celular pós-pago ou controle ficará...</td>\n",
              "      <td>2016-12-31</td>\n",
              "      <td>mercado</td>\n",
              "      <td>NaN</td>\n",
              "      <td>http://www1.folha.uol.com.br/mercado/2016/12/1...</td>\n",
              "      <td>a cont do celul ou control fic mais car a part...</td>\n",
              "      <td>(A, conta, do, celular, pós-pago, ou, controle...</td>\n",
              "    </tr>\n",
              "    <tr>\n",
              "      <th>34245</th>\n",
              "      <td>Ajustes sobre servidores públicos emperram nos...</td>\n",
              "      <td>A maior parte dos projetos de ajuste das conta...</td>\n",
              "      <td>2016-12-31</td>\n",
              "      <td>mercado</td>\n",
              "      <td>NaN</td>\n",
              "      <td>http://www1.folha.uol.com.br/mercado/2016/12/1...</td>\n",
              "      <td>a mai part do projet de ajust da cont públic a...</td>\n",
              "      <td>(A, maior, parte, dos, projetos, de, ajuste, d...</td>\n",
              "    </tr>\n",
              "    <tr>\n",
              "      <th>34248</th>\n",
              "      <td>Inventor da internet das coisas ataca mitos so...</td>\n",
              "      <td>Desde as primeiras décadas do século 19 se diz...</td>\n",
              "      <td>2016-12-31</td>\n",
              "      <td>mercado</td>\n",
              "      <td>NaN</td>\n",
              "      <td>http://www1.folha.uol.com.br/mercado/2016/12/1...</td>\n",
              "      <td>desd as prim déc do sécul se diz que as not de...</td>\n",
              "      <td>(Desde, as, primeiras, décadas, do, século, 19...</td>\n",
              "    </tr>\n",
              "    <tr>\n",
              "      <th>34249</th>\n",
              "      <td>Livro analisa empresas de crescimento exponenc...</td>\n",
              "      <td>O Cifras &amp; Letras seleciona semanalmente lança...</td>\n",
              "      <td>2016-12-31</td>\n",
              "      <td>mercado</td>\n",
              "      <td>NaN</td>\n",
              "      <td>http://www1.folha.uol.com.br/mercado/2016/12/1...</td>\n",
              "      <td>o cifr letr selec seman lanç na áre de negóci ...</td>\n",
              "      <td>(O, Cifras, &amp;, Letras, seleciona, semanalmente...</td>\n",
              "    </tr>\n",
              "    <tr>\n",
              "      <th>...</th>\n",
              "      <td>...</td>\n",
              "      <td>...</td>\n",
              "      <td>...</td>\n",
              "      <td>...</td>\n",
              "      <td>...</td>\n",
              "      <td>...</td>\n",
              "      <td>...</td>\n",
              "      <td>...</td>\n",
              "    </tr>\n",
              "    <tr>\n",
              "      <th>94280</th>\n",
              "      <td>Previsões para economia dependem de rumos do g...</td>\n",
              "      <td>Para o economista Rodolfo Margato, do banco Sa...</td>\n",
              "      <td>2016-01-01</td>\n",
              "      <td>mercado</td>\n",
              "      <td>NaN</td>\n",
              "      <td>http://www1.folha.uol.com.br/mercado/2016/01/1...</td>\n",
              "      <td>par o econom rodolf margat do banc santand a e...</td>\n",
              "      <td>(Para, o, economista, Rodolfo, Margato, ,, do,...</td>\n",
              "    </tr>\n",
              "    <tr>\n",
              "      <th>94295</th>\n",
              "      <td>Repelentes e água de coco lideram a lista de s...</td>\n",
              "      <td>Conveniência, saúde, boa forma e prazer. As te...</td>\n",
              "      <td>2016-01-01</td>\n",
              "      <td>mercado</td>\n",
              "      <td>NaN</td>\n",
              "      <td>http://www1.folha.uol.com.br/mercado/2016/01/1...</td>\n",
              "      <td>conveni saúd boa form e praz as tend de consum...</td>\n",
              "      <td>(Conveniência, ,, saúde, ,, boa, forma, e, pra...</td>\n",
              "    </tr>\n",
              "    <tr>\n",
              "      <th>94301</th>\n",
              "      <td>Renda em queda leva mais pessoas às filas de e...</td>\n",
              "      <td>Com o rendimento em queda, mais pessoas são fo...</td>\n",
              "      <td>2016-01-01</td>\n",
              "      <td>mercado</td>\n",
              "      <td>NaN</td>\n",
              "      <td>http://www1.folha.uol.com.br/mercado/2016/01/1...</td>\n",
              "      <td>com o rend em qued mais pesso são forç a busc ...</td>\n",
              "      <td>(Com, o, rendimento, em, queda, ,, mais, pesso...</td>\n",
              "    </tr>\n",
              "    <tr>\n",
              "      <th>94310</th>\n",
              "      <td>Brasil pode perder até 2,2 milhões de vagas fo...</td>\n",
              "      <td>O Brasil pode perder até 2,2 milhões de vagas ...</td>\n",
              "      <td>2016-01-01</td>\n",
              "      <td>mercado</td>\n",
              "      <td>NaN</td>\n",
              "      <td>http://www1.folha.uol.com.br/mercado/2016/01/1...</td>\n",
              "      <td>o brasil pod perd até milhã de vag com cart as...</td>\n",
              "      <td>(O, Brasil, pode, perder, até, 2,2, milhões, d...</td>\n",
              "    </tr>\n",
              "    <tr>\n",
              "      <th>94314</th>\n",
              "      <td>Usina nuclear Angra 3 procura verba e saídas p...</td>\n",
              "      <td>Enquanto briga com a falta de dinheiro em caix...</td>\n",
              "      <td>2016-01-01</td>\n",
              "      <td>mercado</td>\n",
              "      <td>NaN</td>\n",
              "      <td>http://www1.folha.uol.com.br/mercado/2016/01/1...</td>\n",
              "      <td>enquant brig com a falt de dinh em caix e com ...</td>\n",
              "      <td>(Enquanto, briga, com, a, falta, de, dinheiro,...</td>\n",
              "    </tr>\n",
              "  </tbody>\n",
              "</table>\n",
              "<p>7943 rows × 8 columns</p>\n",
              "</div>\n",
              "      <button class=\"colab-df-convert\" onclick=\"convertToInteractive('df-1d2fb820-7255-4883-aeb8-f205b0d80f35')\"\n",
              "              title=\"Convert this dataframe to an interactive table.\"\n",
              "              style=\"display:none;\">\n",
              "        \n",
              "  <svg xmlns=\"http://www.w3.org/2000/svg\" height=\"24px\"viewBox=\"0 0 24 24\"\n",
              "       width=\"24px\">\n",
              "    <path d=\"M0 0h24v24H0V0z\" fill=\"none\"/>\n",
              "    <path d=\"M18.56 5.44l.94 2.06.94-2.06 2.06-.94-2.06-.94-.94-2.06-.94 2.06-2.06.94zm-11 1L8.5 8.5l.94-2.06 2.06-.94-2.06-.94L8.5 2.5l-.94 2.06-2.06.94zm10 10l.94 2.06.94-2.06 2.06-.94-2.06-.94-.94-2.06-.94 2.06-2.06.94z\"/><path d=\"M17.41 7.96l-1.37-1.37c-.4-.4-.92-.59-1.43-.59-.52 0-1.04.2-1.43.59L10.3 9.45l-7.72 7.72c-.78.78-.78 2.05 0 2.83L4 21.41c.39.39.9.59 1.41.59.51 0 1.02-.2 1.41-.59l7.78-7.78 2.81-2.81c.8-.78.8-2.07 0-2.86zM5.41 20L4 18.59l7.72-7.72 1.47 1.35L5.41 20z\"/>\n",
              "  </svg>\n",
              "      </button>\n",
              "      \n",
              "  <style>\n",
              "    .colab-df-container {\n",
              "      display:flex;\n",
              "      flex-wrap:wrap;\n",
              "      gap: 12px;\n",
              "    }\n",
              "\n",
              "    .colab-df-convert {\n",
              "      background-color: #E8F0FE;\n",
              "      border: none;\n",
              "      border-radius: 50%;\n",
              "      cursor: pointer;\n",
              "      display: none;\n",
              "      fill: #1967D2;\n",
              "      height: 32px;\n",
              "      padding: 0 0 0 0;\n",
              "      width: 32px;\n",
              "    }\n",
              "\n",
              "    .colab-df-convert:hover {\n",
              "      background-color: #E2EBFA;\n",
              "      box-shadow: 0px 1px 2px rgba(60, 64, 67, 0.3), 0px 1px 3px 1px rgba(60, 64, 67, 0.15);\n",
              "      fill: #174EA6;\n",
              "    }\n",
              "\n",
              "    [theme=dark] .colab-df-convert {\n",
              "      background-color: #3B4455;\n",
              "      fill: #D2E3FC;\n",
              "    }\n",
              "\n",
              "    [theme=dark] .colab-df-convert:hover {\n",
              "      background-color: #434B5C;\n",
              "      box-shadow: 0px 1px 3px 1px rgba(0, 0, 0, 0.15);\n",
              "      filter: drop-shadow(0px 1px 2px rgba(0, 0, 0, 0.3));\n",
              "      fill: #FFFFFF;\n",
              "    }\n",
              "  </style>\n",
              "\n",
              "      <script>\n",
              "        const buttonEl =\n",
              "          document.querySelector('#df-1d2fb820-7255-4883-aeb8-f205b0d80f35 button.colab-df-convert');\n",
              "        buttonEl.style.display =\n",
              "          google.colab.kernel.accessAllowed ? 'block' : 'none';\n",
              "\n",
              "        async function convertToInteractive(key) {\n",
              "          const element = document.querySelector('#df-1d2fb820-7255-4883-aeb8-f205b0d80f35');\n",
              "          const dataTable =\n",
              "            await google.colab.kernel.invokeFunction('convertToInteractive',\n",
              "                                                     [key], {});\n",
              "          if (!dataTable) return;\n",
              "\n",
              "          const docLinkHtml = 'Like what you see? Visit the ' +\n",
              "            '<a target=\"_blank\" href=https://colab.research.google.com/notebooks/data_table.ipynb>data table notebook</a>'\n",
              "            + ' to learn more about interactive tables.';\n",
              "          element.innerHTML = '';\n",
              "          dataTable['output_type'] = 'display_data';\n",
              "          await google.colab.output.renderOutput(dataTable, element);\n",
              "          const docLink = document.createElement('div');\n",
              "          docLink.innerHTML = docLinkHtml;\n",
              "          element.appendChild(docLink);\n",
              "        }\n",
              "      </script>\n",
              "    </div>\n",
              "  </div>\n",
              "  "
            ]
          },
          "metadata": {},
          "execution_count": 53
        }
      ]
    },
    {
      "cell_type": "markdown",
      "source": [
        "## Criar uma documento SPACY para cada texto do dataset\n",
        "\n",
        "Crie uma coluna `spacy_doc` que contenha os objetos spacy para cada texto do dataset de interesse. Para tal, carregue os modelos `pt_core_news_lg` e aplique em todos os textos (pode demorar alguns minutos...)"
      ],
      "metadata": {
        "id": "z2nFkMILRJ_K"
      }
    },
    {
      "cell_type": "code",
      "source": [
        "# Carregando o pipeline e aplicando para cada texto do dataset\n",
        "nlp = spacy.load(\"pt_core_news_lg\")\n",
        "news_2016.loc[:, 'spacy_doc'] = news_2016.text.progress_map(nlp)"
      ],
      "metadata": {
        "id": "8XQvUL6WDiV5",
        "colab": {
          "base_uri": "https://localhost:8080/",
          "height": 49,
          "referenced_widgets": [
            "222dc2af1b5842979dc16dba3ee4716b",
            "ccc89f4ecf2c4067b2648d4c023c96f2",
            "8f57cae65c08407cad1ad76e0922bd33",
            "afae73775dc24669bc92159c68639c5c",
            "c78afc3d7d374b60bf1482ca821e6a02",
            "eee4be286ac546ebb0b2f4c5ab08acd1",
            "dc1c5d2545f24631ae3188e9cea7a6e8",
            "d4b1062662874a7d9a1cd9ae7811d198",
            "c665f49f82b04688a7ab9ce1ab866d62",
            "4cf7355a821e40b3b1bd0c440341160e",
            "6b8dd72cafa24ee181ebe9a7369cb144"
          ]
        },
        "outputId": "266a3416-7cca-4b17-c273-63798378bc14"
      },
      "execution_count": 47,
      "outputs": [
        {
          "output_type": "display_data",
          "data": {
            "text/plain": [
              "  0%|          | 0/7943 [00:00<?, ?it/s]"
            ],
            "application/vnd.jupyter.widget-view+json": {
              "version_major": 2,
              "version_minor": 0,
              "model_id": "222dc2af1b5842979dc16dba3ee4716b"
            }
          },
          "metadata": {}
        }
      ]
    },
    {
      "cell_type": "code",
      "source": [
        "news_2016"
      ],
      "metadata": {
        "colab": {
          "base_uri": "https://localhost:8080/",
          "height": 815
        },
        "id": "7X-vvLj7zeyJ",
        "outputId": "e4e512df-f17f-4958-8753-85ae9ea6012e"
      },
      "execution_count": 48,
      "outputs": [
        {
          "output_type": "execute_result",
          "data": {
            "text/plain": [
              "                                                   title  \\\n",
              "34207  Fazendeira cria própria rede de banda larga e ...   \n",
              "34238  Alteração na cobrança do ICMS eleva conta de c...   \n",
              "34245  Ajustes sobre servidores públicos emperram nos...   \n",
              "34248  Inventor da internet das coisas ataca mitos so...   \n",
              "34249  Livro analisa empresas de crescimento exponenc...   \n",
              "...                                                  ...   \n",
              "94280  Previsões para economia dependem de rumos do g...   \n",
              "94295  Repelentes e água de coco lideram a lista de s...   \n",
              "94301  Renda em queda leva mais pessoas às filas de e...   \n",
              "94310  Brasil pode perder até 2,2 milhões de vagas fo...   \n",
              "94314  Usina nuclear Angra 3 procura verba e saídas p...   \n",
              "\n",
              "                                                    text       date category  \\\n",
              "34207  \"Sou apenas a mulher de um fazendeiro\", diz Ch... 2016-12-31  mercado   \n",
              "34238  A conta do celular pós-pago ou controle ficará... 2016-12-31  mercado   \n",
              "34245  A maior parte dos projetos de ajuste das conta... 2016-12-31  mercado   \n",
              "34248  Desde as primeiras décadas do século 19 se diz... 2016-12-31  mercado   \n",
              "34249  O Cifras & Letras seleciona semanalmente lança... 2016-12-31  mercado   \n",
              "...                                                  ...        ...      ...   \n",
              "94280  Para o economista Rodolfo Margato, do banco Sa... 2016-01-01  mercado   \n",
              "94295  Conveniência, saúde, boa forma e prazer. As te... 2016-01-01  mercado   \n",
              "94301  Com o rendimento em queda, mais pessoas são fo... 2016-01-01  mercado   \n",
              "94310  O Brasil pode perder até 2,2 milhões de vagas ... 2016-01-01  mercado   \n",
              "94314  Enquanto briga com a falta de dinheiro em caix... 2016-01-01  mercado   \n",
              "\n",
              "      subcategory                                               link  \\\n",
              "34207         NaN  http://www1.folha.uol.com.br/mercado/2016/12/1...   \n",
              "34238         NaN  http://www1.folha.uol.com.br/mercado/2016/12/1...   \n",
              "34245         NaN  http://www1.folha.uol.com.br/mercado/2016/12/1...   \n",
              "34248         NaN  http://www1.folha.uol.com.br/mercado/2016/12/1...   \n",
              "34249         NaN  http://www1.folha.uol.com.br/mercado/2016/12/1...   \n",
              "...           ...                                                ...   \n",
              "94280         NaN  http://www1.folha.uol.com.br/mercado/2016/01/1...   \n",
              "94295         NaN  http://www1.folha.uol.com.br/mercado/2016/01/1...   \n",
              "94301         NaN  http://www1.folha.uol.com.br/mercado/2016/01/1...   \n",
              "94310         NaN  http://www1.folha.uol.com.br/mercado/2016/01/1...   \n",
              "94314         NaN  http://www1.folha.uol.com.br/mercado/2016/01/1...   \n",
              "\n",
              "                                             nltk_tokens  \\\n",
              "34207  sou apen a mulh de um fazend diz christin cond...   \n",
              "34238  a cont do celul ou control fic mais car a part...   \n",
              "34245  a mai part do projet de ajust da cont públic a...   \n",
              "34248  desd as prim déc do sécul se diz que as not de...   \n",
              "34249  o cifr letr selec seman lanç na áre de negóci ...   \n",
              "...                                                  ...   \n",
              "94280  par o econom rodolf margat do banc santand a e...   \n",
              "94295  conveni saúd boa form e praz as tend de consum...   \n",
              "94301  com o rend em qued mais pesso são forç a busc ...   \n",
              "94310  o brasil pod perd até milhã de vag com cart as...   \n",
              "94314  enquant brig com a falt de dinh em caix e com ...   \n",
              "\n",
              "                                               spacy_doc  \n",
              "34207  (\", Sou, apenas, a, mulher, de, um, fazendeiro...  \n",
              "34238  (A, conta, do, celular, pós-pago, ou, controle...  \n",
              "34245  (A, maior, parte, dos, projetos, de, ajuste, d...  \n",
              "34248  (Desde, as, primeiras, décadas, do, século, 19...  \n",
              "34249  (O, Cifras, &, Letras, seleciona, semanalmente...  \n",
              "...                                                  ...  \n",
              "94280  (Para, o, economista, Rodolfo, Margato, ,, do,...  \n",
              "94295  (Conveniência, ,, saúde, ,, boa, forma, e, pra...  \n",
              "94301  (Com, o, rendimento, em, queda, ,, mais, pesso...  \n",
              "94310  (O, Brasil, pode, perder, até, 2,2, milhões, d...  \n",
              "94314  (Enquanto, briga, com, a, falta, de, dinheiro,...  \n",
              "\n",
              "[7943 rows x 8 columns]"
            ],
            "text/html": [
              "\n",
              "  <div id=\"df-6d83ac0c-96a7-4665-85fa-6d49ccb68aab\">\n",
              "    <div class=\"colab-df-container\">\n",
              "      <div>\n",
              "<style scoped>\n",
              "    .dataframe tbody tr th:only-of-type {\n",
              "        vertical-align: middle;\n",
              "    }\n",
              "\n",
              "    .dataframe tbody tr th {\n",
              "        vertical-align: top;\n",
              "    }\n",
              "\n",
              "    .dataframe thead th {\n",
              "        text-align: right;\n",
              "    }\n",
              "</style>\n",
              "<table border=\"1\" class=\"dataframe\">\n",
              "  <thead>\n",
              "    <tr style=\"text-align: right;\">\n",
              "      <th></th>\n",
              "      <th>title</th>\n",
              "      <th>text</th>\n",
              "      <th>date</th>\n",
              "      <th>category</th>\n",
              "      <th>subcategory</th>\n",
              "      <th>link</th>\n",
              "      <th>nltk_tokens</th>\n",
              "      <th>spacy_doc</th>\n",
              "    </tr>\n",
              "  </thead>\n",
              "  <tbody>\n",
              "    <tr>\n",
              "      <th>34207</th>\n",
              "      <td>Fazendeira cria própria rede de banda larga e ...</td>\n",
              "      <td>\"Sou apenas a mulher de um fazendeiro\", diz Ch...</td>\n",
              "      <td>2016-12-31</td>\n",
              "      <td>mercado</td>\n",
              "      <td>NaN</td>\n",
              "      <td>http://www1.folha.uol.com.br/mercado/2016/12/1...</td>\n",
              "      <td>sou apen a mulh de um fazend diz christin cond...</td>\n",
              "      <td>(\", Sou, apenas, a, mulher, de, um, fazendeiro...</td>\n",
              "    </tr>\n",
              "    <tr>\n",
              "      <th>34238</th>\n",
              "      <td>Alteração na cobrança do ICMS eleva conta de c...</td>\n",
              "      <td>A conta do celular pós-pago ou controle ficará...</td>\n",
              "      <td>2016-12-31</td>\n",
              "      <td>mercado</td>\n",
              "      <td>NaN</td>\n",
              "      <td>http://www1.folha.uol.com.br/mercado/2016/12/1...</td>\n",
              "      <td>a cont do celul ou control fic mais car a part...</td>\n",
              "      <td>(A, conta, do, celular, pós-pago, ou, controle...</td>\n",
              "    </tr>\n",
              "    <tr>\n",
              "      <th>34245</th>\n",
              "      <td>Ajustes sobre servidores públicos emperram nos...</td>\n",
              "      <td>A maior parte dos projetos de ajuste das conta...</td>\n",
              "      <td>2016-12-31</td>\n",
              "      <td>mercado</td>\n",
              "      <td>NaN</td>\n",
              "      <td>http://www1.folha.uol.com.br/mercado/2016/12/1...</td>\n",
              "      <td>a mai part do projet de ajust da cont públic a...</td>\n",
              "      <td>(A, maior, parte, dos, projetos, de, ajuste, d...</td>\n",
              "    </tr>\n",
              "    <tr>\n",
              "      <th>34248</th>\n",
              "      <td>Inventor da internet das coisas ataca mitos so...</td>\n",
              "      <td>Desde as primeiras décadas do século 19 se diz...</td>\n",
              "      <td>2016-12-31</td>\n",
              "      <td>mercado</td>\n",
              "      <td>NaN</td>\n",
              "      <td>http://www1.folha.uol.com.br/mercado/2016/12/1...</td>\n",
              "      <td>desd as prim déc do sécul se diz que as not de...</td>\n",
              "      <td>(Desde, as, primeiras, décadas, do, século, 19...</td>\n",
              "    </tr>\n",
              "    <tr>\n",
              "      <th>34249</th>\n",
              "      <td>Livro analisa empresas de crescimento exponenc...</td>\n",
              "      <td>O Cifras &amp; Letras seleciona semanalmente lança...</td>\n",
              "      <td>2016-12-31</td>\n",
              "      <td>mercado</td>\n",
              "      <td>NaN</td>\n",
              "      <td>http://www1.folha.uol.com.br/mercado/2016/12/1...</td>\n",
              "      <td>o cifr letr selec seman lanç na áre de negóci ...</td>\n",
              "      <td>(O, Cifras, &amp;, Letras, seleciona, semanalmente...</td>\n",
              "    </tr>\n",
              "    <tr>\n",
              "      <th>...</th>\n",
              "      <td>...</td>\n",
              "      <td>...</td>\n",
              "      <td>...</td>\n",
              "      <td>...</td>\n",
              "      <td>...</td>\n",
              "      <td>...</td>\n",
              "      <td>...</td>\n",
              "      <td>...</td>\n",
              "    </tr>\n",
              "    <tr>\n",
              "      <th>94280</th>\n",
              "      <td>Previsões para economia dependem de rumos do g...</td>\n",
              "      <td>Para o economista Rodolfo Margato, do banco Sa...</td>\n",
              "      <td>2016-01-01</td>\n",
              "      <td>mercado</td>\n",
              "      <td>NaN</td>\n",
              "      <td>http://www1.folha.uol.com.br/mercado/2016/01/1...</td>\n",
              "      <td>par o econom rodolf margat do banc santand a e...</td>\n",
              "      <td>(Para, o, economista, Rodolfo, Margato, ,, do,...</td>\n",
              "    </tr>\n",
              "    <tr>\n",
              "      <th>94295</th>\n",
              "      <td>Repelentes e água de coco lideram a lista de s...</td>\n",
              "      <td>Conveniência, saúde, boa forma e prazer. As te...</td>\n",
              "      <td>2016-01-01</td>\n",
              "      <td>mercado</td>\n",
              "      <td>NaN</td>\n",
              "      <td>http://www1.folha.uol.com.br/mercado/2016/01/1...</td>\n",
              "      <td>conveni saúd boa form e praz as tend de consum...</td>\n",
              "      <td>(Conveniência, ,, saúde, ,, boa, forma, e, pra...</td>\n",
              "    </tr>\n",
              "    <tr>\n",
              "      <th>94301</th>\n",
              "      <td>Renda em queda leva mais pessoas às filas de e...</td>\n",
              "      <td>Com o rendimento em queda, mais pessoas são fo...</td>\n",
              "      <td>2016-01-01</td>\n",
              "      <td>mercado</td>\n",
              "      <td>NaN</td>\n",
              "      <td>http://www1.folha.uol.com.br/mercado/2016/01/1...</td>\n",
              "      <td>com o rend em qued mais pesso são forç a busc ...</td>\n",
              "      <td>(Com, o, rendimento, em, queda, ,, mais, pesso...</td>\n",
              "    </tr>\n",
              "    <tr>\n",
              "      <th>94310</th>\n",
              "      <td>Brasil pode perder até 2,2 milhões de vagas fo...</td>\n",
              "      <td>O Brasil pode perder até 2,2 milhões de vagas ...</td>\n",
              "      <td>2016-01-01</td>\n",
              "      <td>mercado</td>\n",
              "      <td>NaN</td>\n",
              "      <td>http://www1.folha.uol.com.br/mercado/2016/01/1...</td>\n",
              "      <td>o brasil pod perd até milhã de vag com cart as...</td>\n",
              "      <td>(O, Brasil, pode, perder, até, 2,2, milhões, d...</td>\n",
              "    </tr>\n",
              "    <tr>\n",
              "      <th>94314</th>\n",
              "      <td>Usina nuclear Angra 3 procura verba e saídas p...</td>\n",
              "      <td>Enquanto briga com a falta de dinheiro em caix...</td>\n",
              "      <td>2016-01-01</td>\n",
              "      <td>mercado</td>\n",
              "      <td>NaN</td>\n",
              "      <td>http://www1.folha.uol.com.br/mercado/2016/01/1...</td>\n",
              "      <td>enquant brig com a falt de dinh em caix e com ...</td>\n",
              "      <td>(Enquanto, briga, com, a, falta, de, dinheiro,...</td>\n",
              "    </tr>\n",
              "  </tbody>\n",
              "</table>\n",
              "<p>7943 rows × 8 columns</p>\n",
              "</div>\n",
              "      <button class=\"colab-df-convert\" onclick=\"convertToInteractive('df-6d83ac0c-96a7-4665-85fa-6d49ccb68aab')\"\n",
              "              title=\"Convert this dataframe to an interactive table.\"\n",
              "              style=\"display:none;\">\n",
              "        \n",
              "  <svg xmlns=\"http://www.w3.org/2000/svg\" height=\"24px\"viewBox=\"0 0 24 24\"\n",
              "       width=\"24px\">\n",
              "    <path d=\"M0 0h24v24H0V0z\" fill=\"none\"/>\n",
              "    <path d=\"M18.56 5.44l.94 2.06.94-2.06 2.06-.94-2.06-.94-.94-2.06-.94 2.06-2.06.94zm-11 1L8.5 8.5l.94-2.06 2.06-.94-2.06-.94L8.5 2.5l-.94 2.06-2.06.94zm10 10l.94 2.06.94-2.06 2.06-.94-2.06-.94-.94-2.06-.94 2.06-2.06.94z\"/><path d=\"M17.41 7.96l-1.37-1.37c-.4-.4-.92-.59-1.43-.59-.52 0-1.04.2-1.43.59L10.3 9.45l-7.72 7.72c-.78.78-.78 2.05 0 2.83L4 21.41c.39.39.9.59 1.41.59.51 0 1.02-.2 1.41-.59l7.78-7.78 2.81-2.81c.8-.78.8-2.07 0-2.86zM5.41 20L4 18.59l7.72-7.72 1.47 1.35L5.41 20z\"/>\n",
              "  </svg>\n",
              "      </button>\n",
              "      \n",
              "  <style>\n",
              "    .colab-df-container {\n",
              "      display:flex;\n",
              "      flex-wrap:wrap;\n",
              "      gap: 12px;\n",
              "    }\n",
              "\n",
              "    .colab-df-convert {\n",
              "      background-color: #E8F0FE;\n",
              "      border: none;\n",
              "      border-radius: 50%;\n",
              "      cursor: pointer;\n",
              "      display: none;\n",
              "      fill: #1967D2;\n",
              "      height: 32px;\n",
              "      padding: 0 0 0 0;\n",
              "      width: 32px;\n",
              "    }\n",
              "\n",
              "    .colab-df-convert:hover {\n",
              "      background-color: #E2EBFA;\n",
              "      box-shadow: 0px 1px 2px rgba(60, 64, 67, 0.3), 0px 1px 3px 1px rgba(60, 64, 67, 0.15);\n",
              "      fill: #174EA6;\n",
              "    }\n",
              "\n",
              "    [theme=dark] .colab-df-convert {\n",
              "      background-color: #3B4455;\n",
              "      fill: #D2E3FC;\n",
              "    }\n",
              "\n",
              "    [theme=dark] .colab-df-convert:hover {\n",
              "      background-color: #434B5C;\n",
              "      box-shadow: 0px 1px 3px 1px rgba(0, 0, 0, 0.15);\n",
              "      filter: drop-shadow(0px 1px 2px rgba(0, 0, 0, 0.3));\n",
              "      fill: #FFFFFF;\n",
              "    }\n",
              "  </style>\n",
              "\n",
              "      <script>\n",
              "        const buttonEl =\n",
              "          document.querySelector('#df-6d83ac0c-96a7-4665-85fa-6d49ccb68aab button.colab-df-convert');\n",
              "        buttonEl.style.display =\n",
              "          google.colab.kernel.accessAllowed ? 'block' : 'none';\n",
              "\n",
              "        async function convertToInteractive(key) {\n",
              "          const element = document.querySelector('#df-6d83ac0c-96a7-4665-85fa-6d49ccb68aab');\n",
              "          const dataTable =\n",
              "            await google.colab.kernel.invokeFunction('convertToInteractive',\n",
              "                                                     [key], {});\n",
              "          if (!dataTable) return;\n",
              "\n",
              "          const docLinkHtml = 'Like what you see? Visit the ' +\n",
              "            '<a target=\"_blank\" href=https://colab.research.google.com/notebooks/data_table.ipynb>data table notebook</a>'\n",
              "            + ' to learn more about interactive tables.';\n",
              "          element.innerHTML = '';\n",
              "          dataTable['output_type'] = 'display_data';\n",
              "          await google.colab.output.renderOutput(dataTable, element);\n",
              "          const docLink = document.createElement('div');\n",
              "          docLink.innerHTML = docLinkHtml;\n",
              "          element.appendChild(docLink);\n",
              "        }\n",
              "      </script>\n",
              "    </div>\n",
              "  </div>\n",
              "  "
            ]
          },
          "metadata": {},
          "execution_count": 48
        }
      ]
    },
    {
      "cell_type": "markdown",
      "source": [
        "## Realize a Lematização usando SPACY\n",
        "\n",
        "O modelo NLP do spacy oferece a possiblidade de lematizar textos em português (o que não acontece com a biblioteca NLTK). Iremos criar uma lista de tokens\n",
        "lematizados para cada texto do nosso dataset. Para tal, iremos retirar as \n",
        "stopwords, usando uma função que junta stopwords provenientes do NLTK e do Spacy. Essa lista completa, é retornada pela função stopwords (e você não precisa mexer).\n",
        "\n",
        "Já a função filter retorna True caso o token seja composto por caracters alfabéticos, não estiver dentro da lista de stopwords e o lemma resultante não estiver contido na lista `o\", \"em\", \"em o\", \"em a\" e \"ano\"`.\n",
        "\n",
        "Crie uma coluna chamada `spacy_lemma` para armazenar o resultado desse pré-processamento."
      ],
      "metadata": {
        "id": "oqmf7KU-R6qk"
      }
    },
    {
      "cell_type": "code",
      "source": [
        "def stopwords() -> Set:\n",
        "    \"\"\"\n",
        "    Return complete list of stopwords\n",
        "    \"\"\"\n",
        "    return set(list(nltk.corpus.stopwords.words(\"portuguese\")) + list(STOP_WORDS))\n",
        "\n",
        "complete_stopwords = stopwords()\n",
        "\n",
        "def filter(w: spacy.lang.pt.Portuguese) -> bool:\n",
        "    \"\"\"\n",
        "    Filter stopwords and undesired tokens\n",
        "    \"\"\"\n",
        "    # Escreva seu código aqui\n",
        "\n",
        "\n",
        "def lemma(doc: spacy.lang.pt.Portuguese) -> List[str]:\n",
        "    \"\"\"\n",
        "    Apply spacy lemmatization on the tokens of a text\n",
        "\n",
        "    Returns:\n",
        "       - a list representing the standardized (with lemmatisation) vocabulary\n",
        "    \"\"\" \n",
        "    # Escreva seu cógigo aqui\n",
        "    \n",
        "\n",
        "news_2016.loc[:, 'spacy_lemma'] = news_2016.spacy_doc.progress_map(lemma)"
      ],
      "metadata": {
        "id": "kiEdxHA7JKVO"
      },
      "execution_count": null,
      "outputs": []
    },
    {
      "cell_type": "markdown",
      "source": [
        "## Reconhecimento de entidades nomeadas\n",
        "\n",
        "Crie uma coluna `spacy_ner` que armazene todas as organizações (APENAS organizações) que estão contidas no texto."
      ],
      "metadata": {
        "id": "RV6u3Fq1TJ-o"
      }
    },
    {
      "cell_type": "code",
      "source": [
        "def NER(doc: spacy.lang.pt.Portuguese):\n",
        "  \"\"\"\n",
        "  Return the list of organizations for a SPACY document\n",
        "  \"\"\"\n",
        "  # Escreva seu código aqui\n",
        "\n",
        "news_2016.loc[:, 'spacy_ner'] = news_2016.spacy_doc.progress_map(NER)"
      ],
      "metadata": {
        "id": "HBkwT6fdkDaX"
      },
      "execution_count": null,
      "outputs": []
    },
    {
      "cell_type": "markdown",
      "source": [
        "## Bag-of-Words\n",
        "\n",
        "Crie uma coluna `tfidf` no dataframe `news_2016`. Use a coluna `spacy_lemma` como base para cálculo do TFIDF. \n",
        "O número máximo de features que iremos considerar é 5000. E o token, tem que ter aparecido pelo menos 10 vezes (`min_df`) nos documentos. "
      ],
      "metadata": {
        "id": "3KXw4Z27TedE"
      }
    },
    {
      "cell_type": "code",
      "source": [
        "class Vectorizer:\n",
        "  def __init__(self, doc_tokens: List):\n",
        "    self.doc_tokens = doc_tokens\n",
        "    self.tfidf = None\n",
        "\n",
        "  \n",
        "  def vectorizer(self):\n",
        "      \"\"\"\n",
        "      Convert a list of tokens to tfidf vector\n",
        "      Returns the tfidf vector and attribute it to self.tfidf\n",
        "      \"\"\"\n",
        "      # Escreva seu código aqui\n",
        "      #...\n",
        "      # return ...\n",
        "\n",
        "  def __call__(self):\n",
        "    if self.tfidf is None:\n",
        "        self.vectorizer()\n",
        "    return self.tfidf\n",
        "\n",
        "doc_tokens = news_2016.spacy_lemma.values.tolist()\n",
        "vectorizer = Vectorizer(doc_tokens)\n",
        "\n",
        "def tokens2tfidf(tokens):\n",
        "    array =  vectorizer().transform([tokens]).toarray()[0]\n",
        "    return array\n",
        "\n",
        "\n",
        "news_2016.loc[:, 'tfidf'] = news_2016.spacy_lemma.progress_map(tokens2tfidf)"
      ],
      "metadata": {
        "id": "ucwxtHrBmAqu"
      },
      "execution_count": null,
      "outputs": []
    },
    {
      "cell_type": "markdown",
      "source": [
        "## Extração de Tópicos\n",
        "\n",
        "Realize a extração de 9 tópicos usando a implementação do sklearn do algoritmo Latent Dirichlet Allocation. Como parâmetros, você irá usar o número máximo de iterações igual à 100 (pode demorar) e o `random_seed` igual a `SEED` que foi setado no início do notebook"
      ],
      "metadata": {
        "id": "Kw76w2wVZCJX"
      }
    },
    {
      "cell_type": "code",
      "source": [
        "N_TOKENS = 9\n",
        "\n",
        "corpus = np.array(news_2016.tfidf.tolist())\n",
        "#Escreva seu código aqui\n",
        "#lda = ... (complete)"
      ],
      "metadata": {
        "id": "BKp7g1O3neG_"
      },
      "execution_count": null,
      "outputs": []
    },
    {
      "cell_type": "markdown",
      "source": [
        "### Visualize os tópicos usando a ferramenta pyLDAVis"
      ],
      "metadata": {
        "id": "r6UVgCmqZn0R"
      }
    },
    {
      "cell_type": "code",
      "source": [
        "# Escreva seu código aqui\n",
        "# ..."
      ],
      "metadata": {
        "id": "cjZKFMDsuP17"
      },
      "execution_count": null,
      "outputs": []
    },
    {
      "cell_type": "markdown",
      "source": [
        "### Atribua a cada text, um (e apenas um) tópic. \n",
        "\n",
        "Crie uma coluna `topic` onde o valor é exatamente o tópico que melhor caracteriza o documento de acordo com o algoritmo de LDA."
      ],
      "metadata": {
        "id": "IR5dmpQ9Z_YR"
      }
    },
    {
      "cell_type": "code",
      "source": [
        "def get_topic(tfidf: np.array):\n",
        "    \"\"\"\n",
        "    Get topic for a lda trained model\n",
        "    \"\"\"\n",
        "    # Escreva seu código aqui\n",
        "\n",
        "news_2016['topic'] = news_2016.tfidf.progress_map(get_topic)"
      ],
      "metadata": {
        "id": "RcXpEfM-3sgg"
      },
      "execution_count": null,
      "outputs": []
    },
    {
      "cell_type": "markdown",
      "source": [
        "## Número de documentos vs tópicos \n",
        "\n",
        "Esse gráfico nos mostra quantos documentos foram caracterizados por cada tópico."
      ],
      "metadata": {
        "id": "9IHT0dDAaSs9"
      }
    },
    {
      "cell_type": "code",
      "source": [
        "with sns.axes_style(\"ticks\"):\n",
        "    sns.set_context(\"talk\")\n",
        "    ax = news_2016['topic'].value_counts().sort_values().plot(kind = 'barh')\n",
        "    ax.yaxis.grid(True)\n",
        "    ax.set_ylabel(\"Tópico\")\n",
        "    ax.set_xlabel(\"Número de notícias (log)\")\n",
        "    sns.despine(offset = 10)\n",
        "    ax.set_xscale(\"log\")"
      ],
      "metadata": {
        "id": "M_qmqn2j6bCI"
      },
      "execution_count": null,
      "outputs": []
    },
    {
      "cell_type": "markdown",
      "source": [
        "## Crie uma nuvem de palavra para cada tópico.\n",
        "\n",
        "Use as colunas `spacy_lemma` e  `topic` para essa tarefa. "
      ],
      "metadata": {
        "id": "JP_cqIgoap32"
      }
    },
    {
      "cell_type": "code",
      "source": [
        "def plot_wordcloud(text:str, ax:plt.Axes) -> plt.Axes:\n",
        "    \"\"\"\n",
        "    Plot the wordcloud for the text/\n",
        "    Arguments:\n",
        "        -  text: string to be analised\n",
        "        -  ax: plt subaxis\n",
        "    Returns:\n",
        "     - ax\n",
        "    \"\"\"\n",
        "    # Escreva seu código aqui\n",
        "    # return ax\n",
        "    \n",
        "def plot_wordcloud_for_a_topic(topic:int, ax:plt.Axes) -> plt.Axes:\n",
        "    topic_news = news_2016[news_2016['topic'] == topic]\n",
        "    list_of_words = chain(*topic_news.spacy_lemma.values.tolist())\n",
        "    string_complete = ' '.join(list_of_words)\n",
        "    if not string_complete:\n",
        "        return None\n",
        "    return plot_wordcloud(string_complete, ax)\n",
        "\n",
        "fig, axis = plt.subplots(3, 3, figsize=(16, 12))\n",
        "\n",
        "axis_  = axis.flatten()\n",
        "for idx, ax in enumerate(axis_):\n",
        "    ax_ = plot_wordcloud_for_a_topic(idx + 1, ax)\n",
        "    if ax_ is None:\n",
        "        plt.delaxes(ax)\n",
        "        continue\n",
        "    ax.set_title(f\"Tópico {idx + 1}\")\n",
        "fig.tight_layout()"
      ],
      "metadata": {
        "id": "tLVrwjNr6r1c"
      },
      "execution_count": null,
      "outputs": []
    },
    {
      "cell_type": "markdown",
      "source": [
        "## Crie uma nuvem de entidades para cada tópico.\n",
        "\n",
        "Use as colunas `spacy_lemma` e  `topic` para essa tarefa. "
      ],
      "metadata": {
        "id": "94p0NeZwa37S"
      }
    },
    {
      "cell_type": "code",
      "source": [
        "def plot_wordcloud_entities_for_a_topic(topic:int, ax:plt.Axes) -> plt.Axes:\n",
        "    topic_news = news_2016[news_2016['topic'] == topic]\n",
        "    list_of_docs = topic_news.spacy_ner.apply(lambda l : [w.replace(\" \", \"_\") for w in l])\n",
        "    list_of_words = chain(*list_of_docs)\n",
        "    string_complete = ' '.join(list_of_words)\n",
        "    if not len(string_complete):\n",
        "        return None\n",
        "    return plot_wordcloud(string_complete, ax)\n",
        "\n",
        "fig, axis = plt.subplots(3, 3, figsize=(16, 12))\n",
        "\n",
        "axis_  = axis.flatten()\n",
        "for idx, ax in enumerate(axis_):\n",
        "    ax_ = plot_wordcloud_entities_for_a_topic(idx + 1, ax)\n",
        "    if ax_ is None:\n",
        "        plt.delaxes(ax)\n",
        "        continue\n",
        "    ax.set_title(f\"Tópico {idx + 1}\")\n",
        "fig.tight_layout()"
      ],
      "metadata": {
        "id": "IbaUfOtkCIaj"
      },
      "execution_count": null,
      "outputs": []
    }
  ]
}